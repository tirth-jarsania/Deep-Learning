{
  "nbformat": 4,
  "nbformat_minor": 0,
  "metadata": {
    "colab": {
      "name": "gdalgo.ipynb",
      "provenance": [],
      "authorship_tag": "ABX9TyOQMxQsMVUj6veBeffRkx9M",
      "include_colab_link": true
    },
    "kernelspec": {
      "name": "python3",
      "display_name": "Python 3"
    }
  },
  "cells": [
    {
      "cell_type": "markdown",
      "metadata": {
        "id": "view-in-github",
        "colab_type": "text"
      },
      "source": [
        "<a href=\"https://colab.research.google.com/github/tirth-jarsania/Deep-Learning/blob/main/gdalgo.ipynb\" target=\"_parent\"><img src=\"https://colab.research.google.com/assets/colab-badge.svg\" alt=\"Open In Colab\"/></a>"
      ]
    },
    {
      "cell_type": "code",
      "metadata": {
        "id": "2UqdT5Wvj1S4"
      },
      "source": [
        "import numpy as np\r\n",
        "import matplotlib.pyplot as plt\r\n",
        "import matplotlib.colors\r\n",
        "from matplotlib import cm\r\n",
        "from mpl_toolkits.mplot3d import Axes3D\r\n",
        "from matplotlib import animation , rc\r\n",
        "from IPython.display import HTML"
      ],
      "execution_count": null,
      "outputs": []
    },
    {
      "cell_type": "code",
      "metadata": {
        "id": "4g43oCVnlbbE"
      },
      "source": [
        "my_cmap = matplotlib.colors.LinearSegmentedColormap.from_list(\"\",[\"green\",\"yellow\",\"red\"])"
      ],
      "execution_count": null,
      "outputs": []
    },
    {
      "cell_type": "code",
      "metadata": {
        "id": "yhuCwsFHpWH4"
      },
      "source": [
        "class SN:\r\n",
        "\r\n",
        "  def __init__(self , w_init , b_init , algo ):\r\n",
        "    self.w = w_init\r\n",
        "    self.b = b_init\r\n",
        "    self.algo = algo\r\n",
        "    self.w_h = []\r\n",
        "    self.b_h = []\r\n",
        "    self.e_h = []\r\n",
        "\r\n",
        "  def sigmoid(self , x , w = None , b = None):\r\n",
        "    if w is None:\r\n",
        "      w = self.w\r\n",
        "    if b is None:\r\n",
        "      b = self.b\r\n",
        "    return 1. / (1. + np.exp(-(w*x + b)))\r\n",
        "\r\n",
        "  def error(self , X , Y , w = None , b = None):\r\n",
        "    if w is None:\r\n",
        "      w = self.w\r\n",
        "    if b is None:\r\n",
        "      b = self.b\r\n",
        "    err = 0\r\n",
        "    for x,y in zip(X,Y):\r\n",
        "      err += 0.5 * ( self.sigmoid(x,w,b) - y) ** 2\r\n",
        "    return err\r\n",
        "\r\n",
        "  def grad_w(self , x, y, w=None , b=None ):\r\n",
        "    if w is None:\r\n",
        "      w = self.w\r\n",
        "    if b is None:\r\n",
        "      b = self.b\r\n",
        "    y_pred = self.sigmoid(x,w,b)\r\n",
        "    return (y_pred-y)*y_pred*(1-y_pred)*x\r\n",
        "\r\n",
        "  def grad_b(self , x, y, w=None , b=None ):\r\n",
        "    if w is None:\r\n",
        "      w = self.w\r\n",
        "    if b is None:\r\n",
        "      b = self.b\r\n",
        "    y_pred = self.sigmoid(x,w,b)\r\n",
        "    return (y_pred-y)*y_pred*(1-y_pred)\r\n",
        "\r\n",
        "  def fit(self, X, Y, epochs = 100 , eta = 0.01 , gamma = 0.9  , mini_batch_size = 100 , eps = 1e-8 , beta = 0.9 , beta1 = 0.9 , beta2 = 0.9 ):\r\n",
        "    self.w_h = []\r\n",
        "    self.b_h = []\r\n",
        "    self.e_h = []\r\n",
        "    self.X = X\r\n",
        "    self.Y = Y\r\n",
        "\r\n",
        "    if self.algo == 'GD':\r\n",
        "      for i in range( epochs ):\r\n",
        "        dw , db = 0 , 0 \r\n",
        "        for x,y in zip(X,Y):\r\n",
        "          dw += self.grad_w(x,y)\r\n",
        "          db += self.grad_b(x,y)\r\n",
        "        self.w -= ( eta * dw ) / X.shape[0]\r\n",
        "        self.b -= ( eta * db ) / X.shape[0]\r\n",
        "        self.append_log()\r\n",
        "\r\n",
        "    elif self.algo == 'Momentum':\r\n",
        "      v_w_prev , v_b_prev = 0 , 0\r\n",
        "      for i in range( epochs ):\r\n",
        "        dw , db = 0 , 0 \r\n",
        "        for x,y in zip(X,Y):\r\n",
        "          dw += self.grad_w(x,y)\r\n",
        "          db += self.grad_b(x,y)\r\n",
        "        v_w = gamma * v_w_prev + ( eta * dw ) / X.shape[0]\r\n",
        "        v_b = gamma * v_b_prev + ( eta * db ) / X.shape[0]\r\n",
        "        self.w = self.w - v_w\r\n",
        "        self.b = self.b - v_b\r\n",
        "        v_w_prev = v_w\r\n",
        "        v_b_prev = v_b\r\n",
        "        self.append_log()\r\n",
        "\r\n",
        "    elif self.algo == 'NAG':\r\n",
        "      v_w_prev , v_b_prev = 0 , 0\r\n",
        "      for i in range( epochs ):\r\n",
        "        dw , db = 0 , 0 \r\n",
        "        w_temp = self.w - gamma * v_w_prev\r\n",
        "        b_temp = self.b - gamma * v_b_prev\r\n",
        "        for x,y in zip(X,Y):\r\n",
        "          dw += self.grad_w(x,y,w_temp,b_temp)\r\n",
        "          db += self.grad_b(x,y,w_temp,b_temp)\r\n",
        "        v_w = gamma * v_w_prev + ( eta * dw ) / X.shape[0]\r\n",
        "        v_b = gamma * v_b_prev + ( eta * db ) / X.shape[0]\r\n",
        "        self.w = w_temp - ( eta * dw ) / X.shape[0]\r\n",
        "        self.b = b_temp - ( eta * db ) / X.shape[0]\r\n",
        "        v_w_prev = v_w\r\n",
        "        v_b_prev = v_b\r\n",
        "        self.append_log()\r\n",
        "\r\n",
        "    elif self.algo == \"MiniBatch\":\r\n",
        "      for i in range( epochs ):\r\n",
        "        dw , db = 0 , 0 \r\n",
        "        for x,y in zip(X,Y):\r\n",
        "          dw += self.grad_w(x,y)\r\n",
        "          db += self.grad_b(x,y)\r\n",
        "        if (i+1) % mini_batch_size == 0 :\r\n",
        "          self.w -= ( eta * dw ) / mini_batch_size\r\n",
        "          self.b -= ( eta * db ) / mini_batch_size\r\n",
        "          dw = 0\r\n",
        "          db = 0\r\n",
        "          self.append_log()\r\n",
        "\r\n",
        "    elif self.algo == 'AdaGrad':\r\n",
        "      v_w , v_b = 0\r\n",
        "      for i in range( epochs ):\r\n",
        "        dw , db = 0 , 0 \r\n",
        "        for x,y in zip(X,Y):\r\n",
        "          dw += self.grad_w(x,y)\r\n",
        "          db += self.grad_b(x,y)\r\n",
        "\r\n",
        "        v_w += dw**2\r\n",
        "        v_b += db**2\r\n",
        "\r\n",
        "        self.w -= (eta / np.sqrt(v_w) + eps) * dw\r\n",
        "        self.b -= (eta / np.sqrt(v_b) + eps) * db\r\n",
        "        self.append_log()\r\n",
        "\r\n",
        "    elif self.algo == 'RMSProp':\r\n",
        "      v_w , v_b = 0\r\n",
        "      for i in range( epochs ):\r\n",
        "        dw , db = 0 , 0 \r\n",
        "        for x,y in zip(X,Y):\r\n",
        "          dw += self.grad_w(x,y)\r\n",
        "          db += self.grad_b(x,y)\r\n",
        "\r\n",
        "      v_w = beta * v_w + (1-beta) * (dw**2)\r\n",
        "      v_b = beta * v_b + (1-beta) * (db**2)\r\n",
        "      self.w -= (eta / np.sqrt(v_w) + eps) * dw\r\n",
        "      self.b -= (eta / np.sqrt(v_b) + eps) * db\r\n",
        "      self.append_log()\r\n",
        "\r\n",
        "    elif self.algo == 'Adam':\r\n",
        "      v_w , v_b = 0, 0\r\n",
        "      m_w , m_b = 0, 0\r\n",
        "      num_updates = 0\r\n",
        "      for i in range( epochs ):\r\n",
        "        dw , db = 0 , 0 \r\n",
        "        for x,y in zip(X,Y):\r\n",
        "          dw += self.grad_w(x,y)\r\n",
        "          db += self.grad_b(x,y)\r\n",
        "        num_updates += 1\r\n",
        "        m_w = beta1 * m_w + (1-beta1) * dw\r\n",
        "        m_b = beta1 * m_b + (1-beta1) * db\r\n",
        "        v_w = beta2 * v_w + (1-beta2) * (dw**2)\r\n",
        "        v_b = beta2 * v_b + (1-beta2) * (db**2)\r\n",
        "        m_w_c = m_w / (1 - np.power(beta1 , num_updates))\r\n",
        "        m_b_c = m_b / (1 - np.power(beta1 , num_updates))\r\n",
        "        v_w_c = v_w / (1 - np.power(beta2 , num_updates))\r\n",
        "        v_b_c = v_b / (1 - np.power(beta2 , num_updates))\r\n",
        "        self.w -= (eta / np.sqrt(v_w_c) + eps) * m_w_c\r\n",
        "        self.b -= (eta / np.sqrt(v_b_c) + eps) * m_b_c\r\n",
        "        self.append_log()\r\n",
        "\r\n",
        "  def append_log(self):\r\n",
        "    self.w_h.append(self.w)\r\n",
        "    self.b_h.append(self.b)\r\n",
        "    self.e_h.append(self.error(self.X , self.Y))\r\n",
        "\r\n"
      ],
      "execution_count": null,
      "outputs": []
    },
    {
      "cell_type": "code",
      "metadata": {
        "id": "SbaE3DJZb3yq"
      },
      "source": [
        "x = np.asarray([0.5, 2.5])\r\n",
        "y = np.asarray([0.2, 0.9])\r\n",
        "\r\n",
        "algo = 'GD'\r\n",
        "\r\n",
        "w_init = -2\r\n",
        "b_init = -2\r\n",
        "\r\n",
        "epochs = 1000\r\n",
        "eta = 1\r\n",
        "\r\n",
        "w_min = -7\r\n",
        "w_max = 5\r\n",
        "\r\n",
        "b_min = -5\r\n",
        "b_max = 5\r\n",
        "\r\n",
        "animation_frams = 20\r\n",
        "plot_3d = True\r\n",
        "plot_2d = False"
      ],
      "execution_count": null,
      "outputs": []
    },
    {
      "cell_type": "code",
      "metadata": {
        "colab": {
          "base_uri": "https://localhost:8080/",
          "height": 761
        },
        "id": "tnPEBy2pc2Or",
        "outputId": "50c35e3d-2c80-4aa1-e814-47a2fd78323d"
      },
      "source": [
        "sn = SN(w_init , b_init , algo)\r\n",
        "sn.fit(x, y, epochs , eta)\r\n",
        "plt.plot(sn.e_h)\r\n",
        "plt.show()\r\n",
        "plt.plot(sn.b_h)\r\n",
        "plt.show()\r\n",
        "plt.plot(sn.w_h)\r\n",
        "plt.show()"
      ],
      "execution_count": null,
      "outputs": [
        {
          "output_type": "display_data",
          "data": {
            "image/png": "[encoded data removed]",
            "text/plain": [
              "<Figure size 432x288 with 1 Axes>"
            ]
          },
          "metadata": {
            "tags": [],
            "needs_background": "light"
          }
        },
        {
          "output_type": "display_data",
          "data": {
            "image/png": "[encoded data removed]",
            "text/plain": [
              "<Figure size 432x288 with 1 Axes>"
            ]
          },
          "metadata": {
            "tags": [],
            "needs_background": "light"
          }
        },
        {
          "output_type": "display_data",
          "data": {
            "image/png": "[encoded data removed]",
            "text/plain": [
              "<Figure size 432x288 with 1 Axes>"
            ]
          },
          "metadata": {
            "tags": [],
            "needs_background": "light"
          }
        }
      ]
    }
  ]
}