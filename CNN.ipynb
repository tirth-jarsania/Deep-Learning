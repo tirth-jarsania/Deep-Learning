{
  "nbformat": 4,
  "nbformat_minor": 0,
  "metadata": {
    "colab": {
      "name": "CNN.ipynb",
      "provenance": [],
      "authorship_tag": "ABX9TyO+asHnCU9xJlCwm4SLL1d1",
      "include_colab_link": true
    },
    "kernelspec": {
      "name": "python3",
      "display_name": "Python 3"
    },
    "widgets": {
      "application/vnd.jupyter.widget-state+json": {
        "95c56148148747eb8c2afb33d1087126": {
          "model_module": "@jupyter-widgets/controls",
          "model_name": "HBoxModel",
          "state": {
            "_view_name": "HBoxView",
            "_dom_classes": [],
            "_model_name": "HBoxModel",
            "_view_module": "@jupyter-widgets/controls",
            "_model_module_version": "1.5.0",
            "_view_count": null,
            "_view_module_version": "1.5.0",
            "box_style": "",
            "layout": "IPY_MODEL_1961bced92fc41308da5c6b243f69ad0",
            "_model_module": "@jupyter-widgets/controls",
            "children": [
              "IPY_MODEL_1e437efa120845fea124ad8f916c5c04",
              "IPY_MODEL_dc9b5584b0124bbcac6e8280b2d90b2b"
            ]
          }
        },
        "1961bced92fc41308da5c6b243f69ad0": {
          "model_module": "@jupyter-widgets/base",
          "model_name": "LayoutModel",
          "state": {
            "_view_name": "LayoutView",
            "grid_template_rows": null,
            "right": null,
            "justify_content": null,
            "_view_module": "@jupyter-widgets/base",
            "overflow": null,
            "_model_module_version": "1.2.0",
            "_view_count": null,
            "flex_flow": null,
            "width": null,
            "min_width": null,
            "border": null,
            "align_items": null,
            "bottom": null,
            "_model_module": "@jupyter-widgets/base",
            "top": null,
            "grid_column": null,
            "overflow_y": null,
            "overflow_x": null,
            "grid_auto_flow": null,
            "grid_area": null,
            "grid_template_columns": null,
            "flex": null,
            "_model_name": "LayoutModel",
            "justify_items": null,
            "grid_row": null,
            "max_height": null,
            "align_content": null,
            "visibility": null,
            "align_self": null,
            "height": null,
            "min_height": null,
            "padding": null,
            "grid_auto_rows": null,
            "grid_gap": null,
            "max_width": null,
            "order": null,
            "_view_module_version": "1.2.0",
            "grid_template_areas": null,
            "object_position": null,
            "object_fit": null,
            "grid_auto_columns": null,
            "margin": null,
            "display": null,
            "left": null
          }
        },
        "1e437efa120845fea124ad8f916c5c04": {
          "model_module": "@jupyter-widgets/controls",
          "model_name": "FloatProgressModel",
          "state": {
            "_view_name": "ProgressView",
            "style": "IPY_MODEL_55e18b204c1b420e807f2c068df78a94",
            "_dom_classes": [],
            "description": "",
            "_model_name": "FloatProgressModel",
            "bar_style": "info",
            "max": 1,
            "_view_module": "@jupyter-widgets/controls",
            "_model_module_version": "1.5.0",
            "value": 1,
            "_view_count": null,
            "_view_module_version": "1.5.0",
            "orientation": "horizontal",
            "min": 0,
            "description_tooltip": null,
            "_model_module": "@jupyter-widgets/controls",
            "layout": "IPY_MODEL_4ab562cd80ac4d1d8efc79b7b3c55e3d"
          }
        },
        "dc9b5584b0124bbcac6e8280b2d90b2b": {
          "model_module": "@jupyter-widgets/controls",
          "model_name": "HTMLModel",
          "state": {
            "_view_name": "HTMLView",
            "style": "IPY_MODEL_7e7bf6f879e74189ad4eda219ec356b0",
            "_dom_classes": [],
            "description": "",
            "_model_name": "HTMLModel",
            "placeholder": "​",
            "_view_module": "@jupyter-widgets/controls",
            "_model_module_version": "1.5.0",
            "value": " 170500096/? [00:30&lt;00:00, 17487765.25it/s]",
            "_view_count": null,
            "_view_module_version": "1.5.0",
            "description_tooltip": null,
            "_model_module": "@jupyter-widgets/controls",
            "layout": "IPY_MODEL_b97438e6a2c34adea5a3f10b28dfaab9"
          }
        },
        "55e18b204c1b420e807f2c068df78a94": {
          "model_module": "@jupyter-widgets/controls",
          "model_name": "ProgressStyleModel",
          "state": {
            "_view_name": "StyleView",
            "_model_name": "ProgressStyleModel",
            "description_width": "initial",
            "_view_module": "@jupyter-widgets/base",
            "_model_module_version": "1.5.0",
            "_view_count": null,
            "_view_module_version": "1.2.0",
            "bar_color": null,
            "_model_module": "@jupyter-widgets/controls"
          }
        },
        "4ab562cd80ac4d1d8efc79b7b3c55e3d": {
          "model_module": "@jupyter-widgets/base",
          "model_name": "LayoutModel",
          "state": {
            "_view_name": "LayoutView",
            "grid_template_rows": null,
            "right": null,
            "justify_content": null,
            "_view_module": "@jupyter-widgets/base",
            "overflow": null,
            "_model_module_version": "1.2.0",
            "_view_count": null,
            "flex_flow": null,
            "width": null,
            "min_width": null,
            "border": null,
            "align_items": null,
            "bottom": null,
            "_model_module": "@jupyter-widgets/base",
            "top": null,
            "grid_column": null,
            "overflow_y": null,
            "overflow_x": null,
            "grid_auto_flow": null,
            "grid_area": null,
            "grid_template_columns": null,
            "flex": null,
            "_model_name": "LayoutModel",
            "justify_items": null,
            "grid_row": null,
            "max_height": null,
            "align_content": null,
            "visibility": null,
            "align_self": null,
            "height": null,
            "min_height": null,
            "padding": null,
            "grid_auto_rows": null,
            "grid_gap": null,
            "max_width": null,
            "order": null,
            "_view_module_version": "1.2.0",
            "grid_template_areas": null,
            "object_position": null,
            "object_fit": null,
            "grid_auto_columns": null,
            "margin": null,
            "display": null,
            "left": null
          }
        },
        "7e7bf6f879e74189ad4eda219ec356b0": {
          "model_module": "@jupyter-widgets/controls",
          "model_name": "DescriptionStyleModel",
          "state": {
            "_view_name": "StyleView",
            "_model_name": "DescriptionStyleModel",
            "description_width": "",
            "_view_module": "@jupyter-widgets/base",
            "_model_module_version": "1.5.0",
            "_view_count": null,
            "_view_module_version": "1.2.0",
            "_model_module": "@jupyter-widgets/controls"
          }
        },
        "b97438e6a2c34adea5a3f10b28dfaab9": {
          "model_module": "@jupyter-widgets/base",
          "model_name": "LayoutModel",
          "state": {
            "_view_name": "LayoutView",
            "grid_template_rows": null,
            "right": null,
            "justify_content": null,
            "_view_module": "@jupyter-widgets/base",
            "overflow": null,
            "_model_module_version": "1.2.0",
            "_view_count": null,
            "flex_flow": null,
            "width": null,
            "min_width": null,
            "border": null,
            "align_items": null,
            "bottom": null,
            "_model_module": "@jupyter-widgets/base",
            "top": null,
            "grid_column": null,
            "overflow_y": null,
            "overflow_x": null,
            "grid_auto_flow": null,
            "grid_area": null,
            "grid_template_columns": null,
            "flex": null,
            "_model_name": "LayoutModel",
            "justify_items": null,
            "grid_row": null,
            "max_height": null,
            "align_content": null,
            "visibility": null,
            "align_self": null,
            "height": null,
            "min_height": null,
            "padding": null,
            "grid_auto_rows": null,
            "grid_gap": null,
            "max_width": null,
            "order": null,
            "_view_module_version": "1.2.0",
            "grid_template_areas": null,
            "object_position": null,
            "object_fit": null,
            "grid_auto_columns": null,
            "margin": null,
            "display": null,
            "left": null
          }
        }
      }
    }
  },
  "cells": [
    {
      "cell_type": "markdown",
      "metadata": {
        "id": "view-in-github",
        "colab_type": "text"
      },
      "source": [
        "<a href=\"https://colab.research.google.com/github/tirth-jarsania/Deep-Learning/blob/main/CNN.ipynb\" target=\"_parent\"><img src=\"https://colab.research.google.com/assets/colab-badge.svg\" alt=\"Open In Colab\"/></a>"
      ]
    },
    {
      "cell_type": "code",
      "metadata": {
        "id": "fZwsHvBqquVP"
      },
      "source": [
        "import torch as jt\n",
        "import matplotlib.pyplot as plt\n",
        "import numpy as np "
      ],
      "execution_count": null,
      "outputs": []
    },
    {
      "cell_type": "markdown",
      "metadata": {
        "id": "VrvUSxtBHsIG"
      },
      "source": [
        "load the data"
      ]
    },
    {
      "cell_type": "code",
      "metadata": {
        "colab": {
          "base_uri": "https://localhost:8080/",
          "height": 83,
          "referenced_widgets": [
            "95c56148148747eb8c2afb33d1087126",
            "1961bced92fc41308da5c6b243f69ad0",
            "1e437efa120845fea124ad8f916c5c04",
            "dc9b5584b0124bbcac6e8280b2d90b2b",
            "55e18b204c1b420e807f2c068df78a94",
            "4ab562cd80ac4d1d8efc79b7b3c55e3d",
            "7e7bf6f879e74189ad4eda219ec356b0",
            "b97438e6a2c34adea5a3f10b28dfaab9"
          ]
        },
        "id": "Er5FEOcbHtgd",
        "outputId": "571597e5-14a4-441b-87db-90af8281a9ff"
      },
      "source": [
        "import torchvision\n",
        "import torchvision.transforms as transforms\n",
        "trainset = torchvision.datasets.CIFAR10(root='./data', train=True,\n",
        "                                        download=True, transform=transforms.ToTensor())"
      ],
      "execution_count": null,
      "outputs": [
        {
          "output_type": "stream",
          "text": [
            "Downloading https://www.cs.toronto.edu/~kriz/cifar-10-python.tar.gz to ./data/cifar-10-python.tar.gz\n"
          ],
          "name": "stdout"
        },
        {
          "output_type": "display_data",
          "data": {
            "application/vnd.jupyter.widget-view+json": {
              "model_id": "95c56148148747eb8c2afb33d1087126",
              "version_minor": 0,
              "version_major": 2
            },
            "text/plain": [
              "HBox(children=(FloatProgress(value=1.0, bar_style='info', max=1.0), HTML(value='')))"
            ]
          },
          "metadata": {
            "tags": []
          }
        },
        {
          "output_type": "stream",
          "text": [
            "Extracting ./data/cifar-10-python.tar.gz to ./data\n"
          ],
          "name": "stdout"
        }
      ]
    },
    {
      "cell_type": "code",
      "metadata": {
        "id": "iM4ztQ0lN3u-"
      },
      "source": [
        "classes = ('plane', 'car', 'bird', 'cat',\n",
        "           'deer', 'dog', 'frog', 'horse', 'ship', 'truck')"
      ],
      "execution_count": null,
      "outputs": []
    },
    {
      "cell_type": "code",
      "metadata": {
        "id": "b5OjiRvgOA0y"
      },
      "source": [
        "trainloader = jt.utils.data.DataLoader(trainset, batch_size=4,\n",
        "                                          shuffle=True)"
      ],
      "execution_count": null,
      "outputs": []
    },
    {
      "cell_type": "code",
      "metadata": {
        "id": "jIcDE5zNOMbg"
      },
      "source": [
        "# get some random training images\n",
        "dataiter = iter(trainloader)\n",
        "images, labels = dataiter.next()"
      ],
      "execution_count": null,
      "outputs": []
    },
    {
      "cell_type": "code",
      "metadata": {
        "id": "1ugBfZphUvzA"
      },
      "source": [
        "def imshow(img):\n",
        "  npimg = img.numpy()\n",
        "  plt.imshow(np.transpose(npimg , (1,2,0)))\n",
        "  plt.show()"
      ],
      "execution_count": null,
      "outputs": []
    },
    {
      "cell_type": "code",
      "metadata": {
        "colab": {
          "base_uri": "https://localhost:8080/",
          "height": 155
        },
        "id": "TrTOdslyVWz1",
        "outputId": "b9e671e7-fca3-4ef0-bf05-cc7ec42c49f1"
      },
      "source": [
        "# show images\n",
        "imshow(torchvision.utils.make_grid(images))\n",
        "# print labels\n",
        "print(' '.join('%5s' % classes[labels[j]] for j in range(4)))"
      ],
      "execution_count": null,
      "outputs": [
        {
          "output_type": "display_data",
          "data": {
            "image/png": "[encoded data removed]",
            "text/plain": [
              "<Figure size 432x288 with 1 Axes>"
            ]
          },
          "metadata": {
            "tags": [],
            "needs_background": "light"
          }
        },
        {
          "output_type": "stream",
          "text": [
            " ship   cat   dog  frog\n"
          ],
          "name": "stdout"
        }
      ]
    },
    {
      "cell_type": "markdown",
      "metadata": {
        "id": "7liJekxaAD03"
      },
      "source": [
        "**Single Convolutional Layer**"
      ]
    },
    {
      "cell_type": "code",
      "metadata": {
        "id": "rHgNdThkrOz4"
      },
      "source": [
        "import torch.nn as nn\n",
        "\n",
        "class FirstCNN(nn.Module):\n",
        "  def __init__(self):\n",
        "    super(FirstCNN , self).__init__()\n",
        "    self.convl = nn.Conv2d( 3,16,3 )\n",
        "\n",
        "  def forward(self ,x):\n",
        "    return self.convl(x)"
      ],
      "execution_count": null,
      "outputs": []
    },
    {
      "cell_type": "code",
      "metadata": {
        "colab": {
          "base_uri": "https://localhost:8080/"
        },
        "id": "k02brt3-BCxw",
        "outputId": "79b67172-9a71-4266-bf71-ac6895224d5a"
      },
      "source": [
        "net = FirstCNN()\n",
        "out = net(images)\n",
        "out.shape"
      ],
      "execution_count": null,
      "outputs": [
        {
          "output_type": "execute_result",
          "data": {
            "text/plain": [
              "torch.Size([4, 16, 30, 30])"
            ]
          },
          "metadata": {
            "tags": []
          },
          "execution_count": 9
        }
      ]
    },
    {
      "cell_type": "code",
      "metadata": {
        "colab": {
          "base_uri": "https://localhost:8080/"
        },
        "id": "EmbPALH8BNZa",
        "outputId": "80bc57e0-3fca-45bc-a56b-0c5dd3f05812"
      },
      "source": [
        "for param in net.parameters():\n",
        "  print(param.shape)"
      ],
      "execution_count": null,
      "outputs": [
        {
          "output_type": "stream",
          "text": [
            "torch.Size([16, 3, 3, 3])\n",
            "torch.Size([16])\n"
          ],
          "name": "stdout"
        }
      ]
    },
    {
      "cell_type": "code",
      "metadata": {
        "colab": {
          "base_uri": "https://localhost:8080/"
        },
        "id": "BzdYyYNbBccI",
        "outputId": "45c16230-89dc-4b53-cf2f-3ade067f6986"
      },
      "source": [
        "out1 = out[0,15,:,:].detach().numpy()\n",
        "print(out1.shape)"
      ],
      "execution_count": null,
      "outputs": [
        {
          "output_type": "stream",
          "text": [
            "(30, 30)\n"
          ],
          "name": "stdout"
        }
      ]
    },
    {
      "cell_type": "code",
      "metadata": {
        "colab": {
          "base_uri": "https://localhost:8080/",
          "height": 266
        },
        "id": "hn3-FaiADHVk",
        "outputId": "fc8f6784-23a7-4235-e466-766661650c47"
      },
      "source": [
        "plt.imshow(out1)\n",
        "plt.show()"
      ],
      "execution_count": null,
      "outputs": [
        {
          "output_type": "display_data",
          "data": {
            "image/png": "[encoded data removed]",
            "text/plain": [
              "<Figure size 432x288 with 1 Axes>"
            ]
          },
          "metadata": {
            "tags": [],
            "needs_background": "light"
          }
        }
      ]
    },
    {
      "cell_type": "markdown",
      "metadata": {
        "id": "frNGQFE4Dvtb"
      },
      "source": [
        "**Deep Convolutional Network**"
      ]
    },
    {
      "cell_type": "code",
      "metadata": {
        "id": "WUaEUwdkD0_z"
      },
      "source": [
        "class FirstCNN_v1(nn.Module):\n",
        "  def __init__(self):\n",
        "    super(FirstCNN_v1 , self).__init__()\n",
        "    self.model = nn.Sequential(\n",
        "        nn.Conv2d( 3,12,3 ),\n",
        "        nn.AvgPool2d(2 , stride = 2),\n",
        "        nn.Conv2d( 12,8,3 ),\n",
        "        nn.AvgPool2d(2,stride=2)\n",
        "    )\n",
        "\n",
        "  def forward(self ,x):\n",
        "    return self.model(x)"
      ],
      "execution_count": null,
      "outputs": []
    },
    {
      "cell_type": "code",
      "metadata": {
        "colab": {
          "base_uri": "https://localhost:8080/",
          "height": 282
        },
        "id": "6HbACumHG--q",
        "outputId": "4e6df1fb-15a9-4e0f-bcbf-19da00b8b36b"
      },
      "source": [
        "net = FirstCNN_v1()\n",
        "out = net.forward(images)\n",
        "out1 = out[0,0,:,:].detach().numpy()\n",
        "print(out1.shape)\n",
        "plt.imshow(out1)\n",
        "plt.show()"
      ],
      "execution_count": null,
      "outputs": [
        {
          "output_type": "stream",
          "text": [
            "(6, 6)\n"
          ],
          "name": "stdout"
        },
        {
          "output_type": "display_data",
          "data": {
            "image/png": "[encoded data removed]",
            "text/plain": [
              "<Figure size 432x288 with 1 Axes>"
            ]
          },
          "metadata": {
            "tags": [],
            "needs_background": "light"
          }
        }
      ]
    },
    {
      "cell_type": "markdown",
      "metadata": {
        "id": "7ViE9i2dLF5o"
      },
      "source": [
        "**LeNet**"
      ]
    },
    {
      "cell_type": "code",
      "metadata": {
        "id": "LNVbQfJhLKNS"
      },
      "source": [
        "class LeNet(nn.Module):\n",
        "  def __init__(self):\n",
        "    super(LeNet, self).__init__()\n",
        "    self.cnn_model = nn.Sequential(\n",
        "          nn.Conv2d(3,6,5),           #(N,3,32,32) -> (N,6,28,28)\n",
        "          nn.ReLU(),\n",
        "          nn.AvgPool2d(2,stride=2),   #(N,6,28,28) -> (N,6,14,14)\n",
        "          nn.Conv2d(6,16,5),\n",
        "          nn.ReLU(),\n",
        "          nn.AvgPool2d(2,stride=2),   #(N,16,10,10) -> (N,16,5,5)\n",
        "    )\n",
        "\n",
        "    self.fc_model = nn.Sequential(\n",
        "          nn.Linear(400,120),\n",
        "          nn.Tanh(),\n",
        "          nn.Linear(120,84),\n",
        "          nn.Tanh(),\n",
        "          nn.Linear(84,10)\n",
        "    )\n",
        "\n",
        "  def forward(self, x):\n",
        "    #print(x.shape)\n",
        "    x = self.cnn_model(x)\n",
        "    #print(x.shape)\n",
        "    x = x.view(x.size(0) , -1)\n",
        "    #print(x.shape)\n",
        "    x = self.fc_model(x)\n",
        "    #print(x.shape)\n",
        "    return x"
      ],
      "execution_count": null,
      "outputs": []
    },
    {
      "cell_type": "code",
      "metadata": {
        "id": "ko0JuNlpgAqC"
      },
      "source": [
        "net = LeNet()\n",
        "out = net(images)"
      ],
      "execution_count": null,
      "outputs": []
    },
    {
      "cell_type": "code",
      "metadata": {
        "colab": {
          "base_uri": "https://localhost:8080/"
        },
        "id": "yUvpOgfxgkI2",
        "outputId": "05bccb38-b457-4d0e-d928-f322b4123c80"
      },
      "source": [
        "max_values , pred_class = jt.max( out.data , 1 )\n",
        "print( pred_class , labels )"
      ],
      "execution_count": null,
      "outputs": [
        {
          "output_type": "stream",
          "text": [
            "tensor([9, 9, 9, 9]) tensor([9, 8, 5, 2, 9, 8, 8, 4, 0, 1, 6, 9, 5, 3, 4, 0, 4, 9, 7, 5, 2, 2, 6, 1,\n",
            "        0, 9, 0, 3, 1, 0, 1, 3, 5, 2, 5, 2, 0, 8, 5, 9, 6, 8, 7, 6, 3, 9, 7, 7,\n",
            "        2, 6, 5, 8, 3, 1, 2, 0, 2, 8, 7, 7, 4, 7, 8, 3, 5, 4, 0, 3, 2, 8, 4, 3,\n",
            "        7, 5, 1, 2, 9, 2, 4, 1, 7, 8, 7, 1, 7, 0, 1, 5, 9, 4, 5, 0, 1, 3, 6, 4,\n",
            "        1, 5, 4, 3, 1, 2, 6, 1, 1, 4, 8, 5, 1, 8, 5, 0, 9, 3, 6, 7, 5, 7, 3, 1,\n",
            "        0, 7, 0, 7, 0, 0, 4, 0, 0, 0, 7, 7, 0, 4, 2, 1, 7, 1, 1, 5, 0, 6, 8, 7,\n",
            "        0, 4, 6, 8, 0, 1, 7, 8, 8, 1, 9, 1, 1, 1, 1, 3, 4, 4, 9, 9, 3, 0, 9, 3,\n",
            "        4, 3, 3, 3, 7, 4, 6, 4, 7, 5, 7, 2, 4, 9, 6, 9, 9, 6, 7, 7, 8, 4, 4, 2,\n",
            "        8, 9, 2, 5, 1, 2, 9, 1, 0, 9, 2, 8, 4, 1, 5, 3, 7, 2, 2, 0, 6, 8, 9, 7,\n",
            "        4, 7, 6, 0, 6, 9, 9, 1, 8, 7, 1, 2, 2, 1, 2, 3, 8, 6, 9, 5, 3, 6, 9, 6,\n",
            "        7, 9, 6, 5, 9, 6, 8, 0, 4, 1, 8, 6, 2, 1, 4, 0])\n"
          ],
          "name": "stdout"
        }
      ]
    },
    {
      "cell_type": "markdown",
      "metadata": {
        "id": "3WvDdnNZhfSG"
      },
      "source": [
        "**Training LeNet**"
      ]
    },
    {
      "cell_type": "code",
      "metadata": {
        "colab": {
          "base_uri": "https://localhost:8080/"
        },
        "id": "hPAMUzWdhk4L",
        "outputId": "98825ab4-08a7-4aa5-c10e-b48a8ff19cd8"
      },
      "source": [
        "batch_size = 256\n",
        "trainset = torchvision.datasets.CIFAR10(root='./data' , train=True , download=True , transform=transforms.ToTensor())\n",
        "trainloader = jt.utils.data.DataLoader( trainset , batch_size=batch_size , shuffle=True )\n",
        "testset = torchvision.datasets.CIFAR10(root='./data' , train=False , download=True , transform=transforms.ToTensor())\n",
        "testloader = jt.utils.data.DataLoader( testset , batch_size=batch_size , shuffle=False )"
      ],
      "execution_count": null,
      "outputs": [
        {
          "output_type": "stream",
          "text": [
            "Files already downloaded and verified\n",
            "Files already downloaded and verified\n"
          ],
          "name": "stdout"
        }
      ]
    },
    {
      "cell_type": "code",
      "metadata": {
        "id": "v-8VkCc6qfau"
      },
      "source": [
        "device = jt.device(\"cuda:0\" if jt.cuda.is_available() else \"cpu\")"
      ],
      "execution_count": null,
      "outputs": []
    },
    {
      "cell_type": "code",
      "metadata": {
        "id": "W9tQCBaqmQvo"
      },
      "source": [
        "def evaluation(dataloader):\n",
        "  total , correct = 0 , 0 \n",
        "  for data in dataloader:\n",
        "    inputs , labels = data\n",
        "    inputs , labels = inputs.to( device ) , labels.to( device )\n",
        "    outputs = net(inputs)\n",
        "    _ , pred = jt.max( outputs.data , 1 )\n",
        "    total += labels.size(0)\n",
        "    correct += ( pred == labels ).sum().item()\n",
        "  return (100 * correct) / total"
      ],
      "execution_count": null,
      "outputs": []
    },
    {
      "cell_type": "code",
      "metadata": {
        "id": "ZIapZEugsyUR"
      },
      "source": [
        "from torch import optim\n",
        "net = LeNet().to(device)\n",
        "loss_fn = nn.CrossEntropyLoss()\n",
        "opt = optim.Adam( net.parameters() )"
      ],
      "execution_count": null,
      "outputs": []
    },
    {
      "cell_type": "code",
      "metadata": {
        "id": "SEkQQCD6tWDq",
        "colab": {
          "base_uri": "https://localhost:8080/"
        },
        "outputId": "ab711b0a-3529-4ba6-9e51-85fa618968d8"
      },
      "source": [
        "%%time\n",
        "max_epochs = 16\n",
        "\n",
        "for e in range( max_epochs ):\n",
        "  for i ,data in enumerate( trainloader , 0):\n",
        "\n",
        "    inputs , labels = data\n",
        "    inputs , labels = inputs.to( device ) , labels.to( device )\n",
        "    outputs = net(inputs)\n",
        "\n",
        "    loss = loss_fn( outputs , labels )\n",
        "    loss.backward()\n",
        "\n",
        "    opt.step()\n",
        "    opt.zero_grad()\n",
        "\n",
        "  print(\"Epoch: %d/%d\" % (e , max_epochs))"
      ],
      "execution_count": null,
      "outputs": [
        {
          "output_type": "stream",
          "text": [
            "Epoch: 0/16\n",
            "Epoch: 1/16\n",
            "Epoch: 2/16\n",
            "Epoch: 3/16\n",
            "Epoch: 4/16\n",
            "Epoch: 5/16\n",
            "Epoch: 6/16\n",
            "Epoch: 7/16\n",
            "Epoch: 8/16\n",
            "Epoch: 9/16\n",
            "Epoch: 10/16\n",
            "Epoch: 11/16\n",
            "Epoch: 12/16\n",
            "Epoch: 13/16\n",
            "Epoch: 14/16\n",
            "Epoch: 15/16\n",
            "CPU times: user 4min 29s, sys: 4.26 s, total: 4min 34s\n",
            "Wall time: 4min 34s\n"
          ],
          "name": "stdout"
        }
      ]
    },
    {
      "cell_type": "code",
      "metadata": {
        "colab": {
          "base_uri": "https://localhost:8080/"
        },
        "id": "CjipoLuY5qap",
        "outputId": "9926ce06-f7ff-41dc-8892-6693d33b9ddf"
      },
      "source": [
        "print('Test acc: %0.2f, Train acc: %0.2f' %(evaluation(testloader) , evaluation(trainloader)))"
      ],
      "execution_count": null,
      "outputs": [
        {
          "output_type": "stream",
          "text": [
            "Test acc: 55.44, Train acc: 58.80\n"
          ],
          "name": "stdout"
        }
      ]
    }
  ]
}