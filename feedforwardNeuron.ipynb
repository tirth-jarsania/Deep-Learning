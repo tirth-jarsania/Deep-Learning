{
  "nbformat": 4,
  "nbformat_minor": 0,
  "metadata": {
    "colab": {
      "name": "feedforwardNeuron.ipynb",
      "provenance": [],
      "authorship_tag": "ABX9TyOOedpjXGs9jJV5Xvg3tkNc",
      "include_colab_link": true
    },
    "kernelspec": {
      "name": "python3",
      "display_name": "Python 3"
    },
    "widgets": {
      "application/vnd.jupyter.widget-state+json": {
        "78e2b85320a64280900e26fd40c734d2": {
          "model_module": "@jupyter-widgets/controls",
          "model_name": "HBoxModel",
          "state": {
            "_view_name": "HBoxView",
            "_dom_classes": [],
            "_model_name": "HBoxModel",
            "_view_module": "@jupyter-widgets/controls",
            "_model_module_version": "1.5.0",
            "_view_count": null,
            "_view_module_version": "1.5.0",
            "box_style": "",
            "layout": "IPY_MODEL_73f2b0a1a9b54245b804e8a6fb85696a",
            "_model_module": "@jupyter-widgets/controls",
            "children": [
              "IPY_MODEL_354c4aad6b0440db973ad0d6721cf062",
              "IPY_MODEL_9c0e45902b614e43929432fbc61bbf74"
            ]
          }
        },
        "73f2b0a1a9b54245b804e8a6fb85696a": {
          "model_module": "@jupyter-widgets/base",
          "model_name": "LayoutModel",
          "state": {
            "_view_name": "LayoutView",
            "grid_template_rows": null,
            "right": null,
            "justify_content": null,
            "_view_module": "@jupyter-widgets/base",
            "overflow": null,
            "_model_module_version": "1.2.0",
            "_view_count": null,
            "flex_flow": null,
            "width": null,
            "min_width": null,
            "border": null,
            "align_items": null,
            "bottom": null,
            "_model_module": "@jupyter-widgets/base",
            "top": null,
            "grid_column": null,
            "overflow_y": null,
            "overflow_x": null,
            "grid_auto_flow": null,
            "grid_area": null,
            "grid_template_columns": null,
            "flex": null,
            "_model_name": "LayoutModel",
            "justify_items": null,
            "grid_row": null,
            "max_height": null,
            "align_content": null,
            "visibility": null,
            "align_self": null,
            "height": null,
            "min_height": null,
            "padding": null,
            "grid_auto_rows": null,
            "grid_gap": null,
            "max_width": null,
            "order": null,
            "_view_module_version": "1.2.0",
            "grid_template_areas": null,
            "object_position": null,
            "object_fit": null,
            "grid_auto_columns": null,
            "margin": null,
            "display": null,
            "left": null
          }
        },
        "354c4aad6b0440db973ad0d6721cf062": {
          "model_module": "@jupyter-widgets/controls",
          "model_name": "FloatProgressModel",
          "state": {
            "_view_name": "ProgressView",
            "style": "IPY_MODEL_dc005e5eb40a484f892e3e80a4dc4d51",
            "_dom_classes": [],
            "description": "100%",
            "_model_name": "FloatProgressModel",
            "bar_style": "success",
            "max": 2000,
            "_view_module": "@jupyter-widgets/controls",
            "_model_module_version": "1.5.0",
            "value": 2000,
            "_view_count": null,
            "_view_module_version": "1.5.0",
            "orientation": "horizontal",
            "min": 0,
            "description_tooltip": null,
            "_model_module": "@jupyter-widgets/controls",
            "layout": "IPY_MODEL_2bc25c95a04a493aa1d951e210c27fc5"
          }
        },
        "9c0e45902b614e43929432fbc61bbf74": {
          "model_module": "@jupyter-widgets/controls",
          "model_name": "HTMLModel",
          "state": {
            "_view_name": "HTMLView",
            "style": "IPY_MODEL_ddcbd05fe7a64ac7aa1425c8236b6b54",
            "_dom_classes": [],
            "description": "",
            "_model_name": "HTMLModel",
            "placeholder": "​",
            "_view_module": "@jupyter-widgets/controls",
            "_model_module_version": "1.5.0",
            "value": " 2000/2000 [02:08&lt;00:00, 15.54epoch/s]",
            "_view_count": null,
            "_view_module_version": "1.5.0",
            "description_tooltip": null,
            "_model_module": "@jupyter-widgets/controls",
            "layout": "IPY_MODEL_cc017f435454479ba5c97cb784973f2f"
          }
        },
        "dc005e5eb40a484f892e3e80a4dc4d51": {
          "model_module": "@jupyter-widgets/controls",
          "model_name": "ProgressStyleModel",
          "state": {
            "_view_name": "StyleView",
            "_model_name": "ProgressStyleModel",
            "description_width": "initial",
            "_view_module": "@jupyter-widgets/base",
            "_model_module_version": "1.5.0",
            "_view_count": null,
            "_view_module_version": "1.2.0",
            "bar_color": null,
            "_model_module": "@jupyter-widgets/controls"
          }
        },
        "2bc25c95a04a493aa1d951e210c27fc5": {
          "model_module": "@jupyter-widgets/base",
          "model_name": "LayoutModel",
          "state": {
            "_view_name": "LayoutView",
            "grid_template_rows": null,
            "right": null,
            "justify_content": null,
            "_view_module": "@jupyter-widgets/base",
            "overflow": null,
            "_model_module_version": "1.2.0",
            "_view_count": null,
            "flex_flow": null,
            "width": null,
            "min_width": null,
            "border": null,
            "align_items": null,
            "bottom": null,
            "_model_module": "@jupyter-widgets/base",
            "top": null,
            "grid_column": null,
            "overflow_y": null,
            "overflow_x": null,
            "grid_auto_flow": null,
            "grid_area": null,
            "grid_template_columns": null,
            "flex": null,
            "_model_name": "LayoutModel",
            "justify_items": null,
            "grid_row": null,
            "max_height": null,
            "align_content": null,
            "visibility": null,
            "align_self": null,
            "height": null,
            "min_height": null,
            "padding": null,
            "grid_auto_rows": null,
            "grid_gap": null,
            "max_width": null,
            "order": null,
            "_view_module_version": "1.2.0",
            "grid_template_areas": null,
            "object_position": null,
            "object_fit": null,
            "grid_auto_columns": null,
            "margin": null,
            "display": null,
            "left": null
          }
        },
        "ddcbd05fe7a64ac7aa1425c8236b6b54": {
          "model_module": "@jupyter-widgets/controls",
          "model_name": "DescriptionStyleModel",
          "state": {
            "_view_name": "StyleView",
            "_model_name": "DescriptionStyleModel",
            "description_width": "",
            "_view_module": "@jupyter-widgets/base",
            "_model_module_version": "1.5.0",
            "_view_count": null,
            "_view_module_version": "1.2.0",
            "_model_module": "@jupyter-widgets/controls"
          }
        },
        "cc017f435454479ba5c97cb784973f2f": {
          "model_module": "@jupyter-widgets/base",
          "model_name": "LayoutModel",
          "state": {
            "_view_name": "LayoutView",
            "grid_template_rows": null,
            "right": null,
            "justify_content": null,
            "_view_module": "@jupyter-widgets/base",
            "overflow": null,
            "_model_module_version": "1.2.0",
            "_view_count": null,
            "flex_flow": null,
            "width": null,
            "min_width": null,
            "border": null,
            "align_items": null,
            "bottom": null,
            "_model_module": "@jupyter-widgets/base",
            "top": null,
            "grid_column": null,
            "overflow_y": null,
            "overflow_x": null,
            "grid_auto_flow": null,
            "grid_area": null,
            "grid_template_columns": null,
            "flex": null,
            "_model_name": "LayoutModel",
            "justify_items": null,
            "grid_row": null,
            "max_height": null,
            "align_content": null,
            "visibility": null,
            "align_self": null,
            "height": null,
            "min_height": null,
            "padding": null,
            "grid_auto_rows": null,
            "grid_gap": null,
            "max_width": null,
            "order": null,
            "_view_module_version": "1.2.0",
            "grid_template_areas": null,
            "object_position": null,
            "object_fit": null,
            "grid_auto_columns": null,
            "margin": null,
            "display": null,
            "left": null
          }
        },
        "b29ddd0c37434a70bf615c702a25eea9": {
          "model_module": "@jupyter-widgets/controls",
          "model_name": "HBoxModel",
          "state": {
            "_view_name": "HBoxView",
            "_dom_classes": [],
            "_model_name": "HBoxModel",
            "_view_module": "@jupyter-widgets/controls",
            "_model_module_version": "1.5.0",
            "_view_count": null,
            "_view_module_version": "1.5.0",
            "box_style": "",
            "layout": "IPY_MODEL_a7fcec6516a7451cb8d73c4d74879d86",
            "_model_module": "@jupyter-widgets/controls",
            "children": [
              "IPY_MODEL_c46f061a5ab342bdb8f246e8c442c1cf",
              "IPY_MODEL_a99d0c2e7b3f4486884cab024c696243"
            ]
          }
        },
        "a7fcec6516a7451cb8d73c4d74879d86": {
          "model_module": "@jupyter-widgets/base",
          "model_name": "LayoutModel",
          "state": {
            "_view_name": "LayoutView",
            "grid_template_rows": null,
            "right": null,
            "justify_content": null,
            "_view_module": "@jupyter-widgets/base",
            "overflow": null,
            "_model_module_version": "1.2.0",
            "_view_count": null,
            "flex_flow": null,
            "width": null,
            "min_width": null,
            "border": null,
            "align_items": null,
            "bottom": null,
            "_model_module": "@jupyter-widgets/base",
            "top": null,
            "grid_column": null,
            "overflow_y": null,
            "overflow_x": null,
            "grid_auto_flow": null,
            "grid_area": null,
            "grid_template_columns": null,
            "flex": null,
            "_model_name": "LayoutModel",
            "justify_items": null,
            "grid_row": null,
            "max_height": null,
            "align_content": null,
            "visibility": null,
            "align_self": null,
            "height": null,
            "min_height": null,
            "padding": null,
            "grid_auto_rows": null,
            "grid_gap": null,
            "max_width": null,
            "order": null,
            "_view_module_version": "1.2.0",
            "grid_template_areas": null,
            "object_position": null,
            "object_fit": null,
            "grid_auto_columns": null,
            "margin": null,
            "display": null,
            "left": null
          }
        },
        "c46f061a5ab342bdb8f246e8c442c1cf": {
          "model_module": "@jupyter-widgets/controls",
          "model_name": "FloatProgressModel",
          "state": {
            "_view_name": "ProgressView",
            "style": "IPY_MODEL_fffc2d092a7e4ff0a088df1dc78d7500",
            "_dom_classes": [],
            "description": "100%",
            "_model_name": "FloatProgressModel",
            "bar_style": "success",
            "max": 1000,
            "_view_module": "@jupyter-widgets/controls",
            "_model_module_version": "1.5.0",
            "value": 1000,
            "_view_count": null,
            "_view_module_version": "1.5.0",
            "orientation": "horizontal",
            "min": 0,
            "description_tooltip": null,
            "_model_module": "@jupyter-widgets/controls",
            "layout": "IPY_MODEL_67dbd7b79ea541b1a3efa43b938b6cf5"
          }
        },
        "a99d0c2e7b3f4486884cab024c696243": {
          "model_module": "@jupyter-widgets/controls",
          "model_name": "HTMLModel",
          "state": {
            "_view_name": "HTMLView",
            "style": "IPY_MODEL_d4b1467e65dd4ce0b96445f886c6345c",
            "_dom_classes": [],
            "description": "",
            "_model_name": "HTMLModel",
            "placeholder": "​",
            "_view_module": "@jupyter-widgets/controls",
            "_model_module_version": "1.5.0",
            "value": " 1000/1000 [05:01&lt;00:00,  3.32epoch/s]",
            "_view_count": null,
            "_view_module_version": "1.5.0",
            "description_tooltip": null,
            "_model_module": "@jupyter-widgets/controls",
            "layout": "IPY_MODEL_f61410a4e963435babda733edc715001"
          }
        },
        "fffc2d092a7e4ff0a088df1dc78d7500": {
          "model_module": "@jupyter-widgets/controls",
          "model_name": "ProgressStyleModel",
          "state": {
            "_view_name": "StyleView",
            "_model_name": "ProgressStyleModel",
            "description_width": "initial",
            "_view_module": "@jupyter-widgets/base",
            "_model_module_version": "1.5.0",
            "_view_count": null,
            "_view_module_version": "1.2.0",
            "bar_color": null,
            "_model_module": "@jupyter-widgets/controls"
          }
        },
        "67dbd7b79ea541b1a3efa43b938b6cf5": {
          "model_module": "@jupyter-widgets/base",
          "model_name": "LayoutModel",
          "state": {
            "_view_name": "LayoutView",
            "grid_template_rows": null,
            "right": null,
            "justify_content": null,
            "_view_module": "@jupyter-widgets/base",
            "overflow": null,
            "_model_module_version": "1.2.0",
            "_view_count": null,
            "flex_flow": null,
            "width": null,
            "min_width": null,
            "border": null,
            "align_items": null,
            "bottom": null,
            "_model_module": "@jupyter-widgets/base",
            "top": null,
            "grid_column": null,
            "overflow_y": null,
            "overflow_x": null,
            "grid_auto_flow": null,
            "grid_area": null,
            "grid_template_columns": null,
            "flex": null,
            "_model_name": "LayoutModel",
            "justify_items": null,
            "grid_row": null,
            "max_height": null,
            "align_content": null,
            "visibility": null,
            "align_self": null,
            "height": null,
            "min_height": null,
            "padding": null,
            "grid_auto_rows": null,
            "grid_gap": null,
            "max_width": null,
            "order": null,
            "_view_module_version": "1.2.0",
            "grid_template_areas": null,
            "object_position": null,
            "object_fit": null,
            "grid_auto_columns": null,
            "margin": null,
            "display": null,
            "left": null
          }
        },
        "d4b1467e65dd4ce0b96445f886c6345c": {
          "model_module": "@jupyter-widgets/controls",
          "model_name": "DescriptionStyleModel",
          "state": {
            "_view_name": "StyleView",
            "_model_name": "DescriptionStyleModel",
            "description_width": "",
            "_view_module": "@jupyter-widgets/base",
            "_model_module_version": "1.5.0",
            "_view_count": null,
            "_view_module_version": "1.2.0",
            "_model_module": "@jupyter-widgets/controls"
          }
        },
        "f61410a4e963435babda733edc715001": {
          "model_module": "@jupyter-widgets/base",
          "model_name": "LayoutModel",
          "state": {
            "_view_name": "LayoutView",
            "grid_template_rows": null,
            "right": null,
            "justify_content": null,
            "_view_module": "@jupyter-widgets/base",
            "overflow": null,
            "_model_module_version": "1.2.0",
            "_view_count": null,
            "flex_flow": null,
            "width": null,
            "min_width": null,
            "border": null,
            "align_items": null,
            "bottom": null,
            "_model_module": "@jupyter-widgets/base",
            "top": null,
            "grid_column": null,
            "overflow_y": null,
            "overflow_x": null,
            "grid_auto_flow": null,
            "grid_area": null,
            "grid_template_columns": null,
            "flex": null,
            "_model_name": "LayoutModel",
            "justify_items": null,
            "grid_row": null,
            "max_height": null,
            "align_content": null,
            "visibility": null,
            "align_self": null,
            "height": null,
            "min_height": null,
            "padding": null,
            "grid_auto_rows": null,
            "grid_gap": null,
            "max_width": null,
            "order": null,
            "_view_module_version": "1.2.0",
            "grid_template_areas": null,
            "object_position": null,
            "object_fit": null,
            "grid_auto_columns": null,
            "margin": null,
            "display": null,
            "left": null
          }
        },
        "1c8e345bbca74e53ac582ef4df44ad43": {
          "model_module": "@jupyter-widgets/controls",
          "model_name": "HBoxModel",
          "state": {
            "_view_name": "HBoxView",
            "_dom_classes": [],
            "_model_name": "HBoxModel",
            "_view_module": "@jupyter-widgets/controls",
            "_model_module_version": "1.5.0",
            "_view_count": null,
            "_view_module_version": "1.5.0",
            "box_style": "",
            "layout": "IPY_MODEL_f9d4e679a0034014bc018d40fa209a88",
            "_model_module": "@jupyter-widgets/controls",
            "children": [
              "IPY_MODEL_c58a07ac86274a71b4360781a7d08cf3",
              "IPY_MODEL_5cd010c77af74004a9bc0ac496631172"
            ]
          }
        },
        "f9d4e679a0034014bc018d40fa209a88": {
          "model_module": "@jupyter-widgets/base",
          "model_name": "LayoutModel",
          "state": {
            "_view_name": "LayoutView",
            "grid_template_rows": null,
            "right": null,
            "justify_content": null,
            "_view_module": "@jupyter-widgets/base",
            "overflow": null,
            "_model_module_version": "1.2.0",
            "_view_count": null,
            "flex_flow": null,
            "width": null,
            "min_width": null,
            "border": null,
            "align_items": null,
            "bottom": null,
            "_model_module": "@jupyter-widgets/base",
            "top": null,
            "grid_column": null,
            "overflow_y": null,
            "overflow_x": null,
            "grid_auto_flow": null,
            "grid_area": null,
            "grid_template_columns": null,
            "flex": null,
            "_model_name": "LayoutModel",
            "justify_items": null,
            "grid_row": null,
            "max_height": null,
            "align_content": null,
            "visibility": null,
            "align_self": null,
            "height": null,
            "min_height": null,
            "padding": null,
            "grid_auto_rows": null,
            "grid_gap": null,
            "max_width": null,
            "order": null,
            "_view_module_version": "1.2.0",
            "grid_template_areas": null,
            "object_position": null,
            "object_fit": null,
            "grid_auto_columns": null,
            "margin": null,
            "display": null,
            "left": null
          }
        },
        "c58a07ac86274a71b4360781a7d08cf3": {
          "model_module": "@jupyter-widgets/controls",
          "model_name": "FloatProgressModel",
          "state": {
            "_view_name": "ProgressView",
            "style": "IPY_MODEL_0d3261961823457d9f3a213132d570b6",
            "_dom_classes": [],
            "description": "100%",
            "_model_name": "FloatProgressModel",
            "bar_style": "success",
            "max": 2000,
            "_view_module": "@jupyter-widgets/controls",
            "_model_module_version": "1.5.0",
            "value": 2000,
            "_view_count": null,
            "_view_module_version": "1.5.0",
            "orientation": "horizontal",
            "min": 0,
            "description_tooltip": null,
            "_model_module": "@jupyter-widgets/controls",
            "layout": "IPY_MODEL_461b1a31238b48d4b392be9f63e7153a"
          }
        },
        "5cd010c77af74004a9bc0ac496631172": {
          "model_module": "@jupyter-widgets/controls",
          "model_name": "HTMLModel",
          "state": {
            "_view_name": "HTMLView",
            "style": "IPY_MODEL_3c5e408cb3e840feb5c08183a00a5e64",
            "_dom_classes": [],
            "description": "",
            "_model_name": "HTMLModel",
            "placeholder": "​",
            "_view_module": "@jupyter-widgets/controls",
            "_model_module_version": "1.5.0",
            "value": " 2000/2000 [02:36&lt;00:00, 12.82epoch/s]",
            "_view_count": null,
            "_view_module_version": "1.5.0",
            "description_tooltip": null,
            "_model_module": "@jupyter-widgets/controls",
            "layout": "IPY_MODEL_3164ee31b344453981836f666ad95c61"
          }
        },
        "0d3261961823457d9f3a213132d570b6": {
          "model_module": "@jupyter-widgets/controls",
          "model_name": "ProgressStyleModel",
          "state": {
            "_view_name": "StyleView",
            "_model_name": "ProgressStyleModel",
            "description_width": "initial",
            "_view_module": "@jupyter-widgets/base",
            "_model_module_version": "1.5.0",
            "_view_count": null,
            "_view_module_version": "1.2.0",
            "bar_color": null,
            "_model_module": "@jupyter-widgets/controls"
          }
        },
        "461b1a31238b48d4b392be9f63e7153a": {
          "model_module": "@jupyter-widgets/base",
          "model_name": "LayoutModel",
          "state": {
            "_view_name": "LayoutView",
            "grid_template_rows": null,
            "right": null,
            "justify_content": null,
            "_view_module": "@jupyter-widgets/base",
            "overflow": null,
            "_model_module_version": "1.2.0",
            "_view_count": null,
            "flex_flow": null,
            "width": null,
            "min_width": null,
            "border": null,
            "align_items": null,
            "bottom": null,
            "_model_module": "@jupyter-widgets/base",
            "top": null,
            "grid_column": null,
            "overflow_y": null,
            "overflow_x": null,
            "grid_auto_flow": null,
            "grid_area": null,
            "grid_template_columns": null,
            "flex": null,
            "_model_name": "LayoutModel",
            "justify_items": null,
            "grid_row": null,
            "max_height": null,
            "align_content": null,
            "visibility": null,
            "align_self": null,
            "height": null,
            "min_height": null,
            "padding": null,
            "grid_auto_rows": null,
            "grid_gap": null,
            "max_width": null,
            "order": null,
            "_view_module_version": "1.2.0",
            "grid_template_areas": null,
            "object_position": null,
            "object_fit": null,
            "grid_auto_columns": null,
            "margin": null,
            "display": null,
            "left": null
          }
        },
        "3c5e408cb3e840feb5c08183a00a5e64": {
          "model_module": "@jupyter-widgets/controls",
          "model_name": "DescriptionStyleModel",
          "state": {
            "_view_name": "StyleView",
            "_model_name": "DescriptionStyleModel",
            "description_width": "",
            "_view_module": "@jupyter-widgets/base",
            "_model_module_version": "1.5.0",
            "_view_count": null,
            "_view_module_version": "1.2.0",
            "_model_module": "@jupyter-widgets/controls"
          }
        },
        "3164ee31b344453981836f666ad95c61": {
          "model_module": "@jupyter-widgets/base",
          "model_name": "LayoutModel",
          "state": {
            "_view_name": "LayoutView",
            "grid_template_rows": null,
            "right": null,
            "justify_content": null,
            "_view_module": "@jupyter-widgets/base",
            "overflow": null,
            "_model_module_version": "1.2.0",
            "_view_count": null,
            "flex_flow": null,
            "width": null,
            "min_width": null,
            "border": null,
            "align_items": null,
            "bottom": null,
            "_model_module": "@jupyter-widgets/base",
            "top": null,
            "grid_column": null,
            "overflow_y": null,
            "overflow_x": null,
            "grid_auto_flow": null,
            "grid_area": null,
            "grid_template_columns": null,
            "flex": null,
            "_model_name": "LayoutModel",
            "justify_items": null,
            "grid_row": null,
            "max_height": null,
            "align_content": null,
            "visibility": null,
            "align_self": null,
            "height": null,
            "min_height": null,
            "padding": null,
            "grid_auto_rows": null,
            "grid_gap": null,
            "max_width": null,
            "order": null,
            "_view_module_version": "1.2.0",
            "grid_template_areas": null,
            "object_position": null,
            "object_fit": null,
            "grid_auto_columns": null,
            "margin": null,
            "display": null,
            "left": null
          }
        }
      }
    }
  },
  "cells": [
    {
      "cell_type": "markdown",
      "metadata": {
        "id": "view-in-github",
        "colab_type": "text"
      },
      "source": [
        "<a href=\"https://colab.research.google.com/github/tirth-jarsania/Deep-Learning/blob/main/feedforwardNeuron.ipynb\" target=\"_parent\"><img src=\"https://colab.research.google.com/assets/colab-badge.svg\" alt=\"Open In Colab\"/></a>"
      ]
    },
    {
      "cell_type": "code",
      "metadata": {
        "id": "rVOiAyOtpM9j"
      },
      "source": [
        "import numpy as np\n",
        "import matplotlib.pyplot as plt\n",
        "import matplotlib.colors\n",
        "import pandas as pd\n",
        "from sklearn.model_selection import train_test_split\n",
        "from sklearn.metrics import accuracy_score , mean_squared_error , log_loss\n",
        "from tqdm import tqdm_notebook\n",
        "from sklearn.preprocessing import OneHotEncoder\n",
        "from sklearn.datasets import make_blobs\n",
        "import math"
      ],
      "execution_count": null,
      "outputs": []
    },
    {
      "cell_type": "code",
      "metadata": {
        "id": "lqXwR6rBNTcb"
      },
      "source": [
        "class SigmoidNeuron:\n",
        "\n",
        "  def __init__(self):\n",
        "    self.w = None\n",
        "    self.b = None\n",
        "\n",
        "  def perceptron(self , x):\n",
        "    return np.dot(x, self.w.T) + self.b\n",
        "\n",
        "  def sigmoid(self ,x):\n",
        "    return 1.0/(1.0 + np.exp(-x))\n",
        "\n",
        "  def grad_w_mse( self, x, y ):\n",
        "    y_pred = self.sigmoid( self.perceptron(x) )\n",
        "    return ( y_pred - y ) * y_pred * ( 1 - y_pred ) * x\n",
        "\n",
        "  def grad_b_mse( self, x, y ):\n",
        "    y_pred = self.sigmoid( self.perceptron(x) )\n",
        "    return ( y_pred - y ) * y_pred * ( 1 - y_pred ) \n",
        "\n",
        "  def grad_w_ce( self, x, y ):\n",
        "    y_pred = self.sigmoid( self.perceptron(x) )\n",
        "    if y == 0:\n",
        "      return y_pred * x\n",
        "    elif y == 1 :\n",
        "      return -1 * (1-y_pred) * x\n",
        "    else:\n",
        "      raise ValueError(\"y will be 0 or 1\")\n",
        "\n",
        "  def grad_b_ce( self, x, y ):\n",
        "    y_pred = self.sigmoid( self.perceptron(x) )\n",
        "    if y == 0:\n",
        "      return y_pred \n",
        "    elif y == 1 :\n",
        "      return -1 * (1-y_pred) \n",
        "    else:\n",
        "      raise ValueError(\"y will be 0 or 1\")\n",
        "\n",
        "  def fit( self , X, Y, epochs = 1, learning_rate = 1, initialise = True , loss_fn = \"mse\" , display_loss = False):\n",
        "\n",
        "    if initialise :\n",
        "      self.w = np.random.randn(1,X.shape[1])\n",
        "      self.b = 0\n",
        "\n",
        "    if display_loss:\n",
        "      loss = np.ones( epochs )\n",
        "\n",
        "    for i in tqdm_notebook(range(epochs) , total = epochs , unit = \"epoch\" ):\n",
        "      dw = 0\n",
        "      db = 0\n",
        "\n",
        "      for x,y in zip(X,Y) :\n",
        "        if loss_fn == \"mse\":\n",
        "          dw += self.grad_w_mse(x,y)\n",
        "          db += self.grad_b_mse(x,y)\n",
        "        else:\n",
        "          dw += self.grad_w_ce(x,y)\n",
        "          db += self.grad_b_ce(x,y)\n",
        "      m = X.shape[1]\n",
        "      dw /= m\n",
        "      db /= m\n",
        "      self.w = self.w - dw * learning_rate\n",
        "      self.b = self.b - db * learning_rate\n",
        "\n",
        "      if display_loss:\n",
        "        Y_pred = self.sigmoid( self.perceptron(X) ) \n",
        "        if loss_fn == \"mse\":\n",
        "          loss[i] = mean_squared_error(Y,Y_pred)\n",
        "        else:\n",
        "          loss[i] = log_loss(Y,Y_pred)\n",
        "\n",
        "    if display_loss:\n",
        "      plt.plot(loss)\n",
        "      plt.xlabel(\"Epochs\")\n",
        "      if loss_fn == \"mse\":\n",
        "        plt.ylabel(\"Mean Squared Error\")\n",
        "      else:\n",
        "        plt.ylabel(\"Log-Loss\")\n",
        "      plt.show()\n",
        "\n",
        "  def predict(self,X):\n",
        "    Y_pred = []\n",
        "    for x in X:\n",
        "      y_pred = self.sigmoid(self.perceptron(x))\n",
        "      Y_pred.append( y_pred )\n",
        "    return np.array(Y_pred)\n",
        "    "
      ],
      "execution_count": null,
      "outputs": []
    },
    {
      "cell_type": "code",
      "metadata": {
        "id": "rqBisgYCnb-F"
      },
      "source": [
        "my_cmap = matplotlib.colors.LinearSegmentedColormap.from_list(\"\",[\"red\",\"yellow\",\"green\"])"
      ],
      "execution_count": null,
      "outputs": []
    },
    {
      "cell_type": "code",
      "metadata": {
        "id": "f6HE4mOnKJZO",
        "colab": {
          "base_uri": "https://localhost:8080/"
        },
        "outputId": "a041d2f8-996e-4246-b8dd-c47c493b35f6"
      },
      "source": [
        "data , labels = make_blobs(n_samples=1000, n_features=2, centers=4, random_state=0)\n",
        "print(data.shape , labels.shape)"
      ],
      "execution_count": null,
      "outputs": [
        {
          "output_type": "stream",
          "text": [
            "(1000, 2) (1000,)\n"
          ],
          "name": "stdout"
        }
      ]
    },
    {
      "cell_type": "code",
      "metadata": {
        "id": "_uu3YSR-MuWk",
        "colab": {
          "base_uri": "https://localhost:8080/",
          "height": 265
        },
        "outputId": "902baa54-2176-49e0-b8ed-72aa3dcca939"
      },
      "source": [
        "plt.scatter(data[:,0] , data[:,1] , c=labels , cmap=my_cmap)\n",
        "plt.show()"
      ],
      "execution_count": null,
      "outputs": [
        {
          "output_type": "display_data",
          "data": {
            "image/png": "[encoded data removed]",
            "text/plain": [
              "<Figure size 432x288 with 1 Axes>"
            ]
          },
          "metadata": {
            "tags": [],
            "needs_background": "light"
          }
        }
      ]
    },
    {
      "cell_type": "code",
      "metadata": {
        "id": "jcjfhGT1m6Yr",
        "colab": {
          "base_uri": "https://localhost:8080/",
          "height": 265
        },
        "outputId": "2c0db93a-d4ef-4671-a3ab-5b40afa89f06"
      },
      "source": [
        "labels_org = labels\n",
        "labels = np.mod( labels , 2 )\n",
        "plt.scatter(data[:,0] , data[:,1] , c=labels , cmap=my_cmap)\n",
        "plt.show()"
      ],
      "execution_count": null,
      "outputs": [
        {
          "output_type": "display_data",
          "data": {
            "image/png": "[encoded data removed]",
            "text/plain": [
              "<Figure size 432x288 with 1 Axes>"
            ]
          },
          "metadata": {
            "tags": [],
            "needs_background": "light"
          }
        }
      ]
    },
    {
      "cell_type": "code",
      "metadata": {
        "id": "iC5BUWOGp-6g",
        "colab": {
          "base_uri": "https://localhost:8080/"
        },
        "outputId": "06e42b93-b526-45cf-d2ec-c8ed8aea0969"
      },
      "source": [
        "X_train , X_val , Y_train , Y_val = train_test_split( data, labels, stratify =labels, random_state =0)\n",
        "print( X_train.shape , X_val.shape)"
      ],
      "execution_count": null,
      "outputs": [
        {
          "output_type": "stream",
          "text": [
            "(750, 2) (250, 2)\n"
          ],
          "name": "stdout"
        }
      ]
    },
    {
      "cell_type": "code",
      "metadata": {
        "id": "Lg53uEr_vgGe"
      },
      "source": [
        "sn = SigmoidNeuron()\n",
        "sn.fit( X_train , Y_train , epochs = 1000 ,learning_rate = 0.8, loss_fn = \"ce\" , display_loss = True)"
      ],
      "execution_count": null,
      "outputs": []
    },
    {
      "cell_type": "code",
      "metadata": {
        "id": "cLZOPLzV3NvN",
        "colab": {
          "base_uri": "https://localhost:8080/"
        },
        "outputId": "5d2017c8-f1ec-479b-da98-461b9d6edcab"
      },
      "source": [
        "Y_pred_train = sn.predict( X_train )\n",
        "Y_pred_binarized_train = (Y_pred_train >= 0.5 ).astype( \"int\" ).ravel()\n",
        "Y_pred_val = sn.predict( X_val )\n",
        "Y_pred_binarized_val = (Y_pred_val >= 0.5 ).astype( \"int\" ).ravel()\n",
        "accuracy_train = accuracy_score( Y_pred_binarized_train , Y_train )\n",
        "accuracy_val = accuracy_score( Y_pred_binarized_val , Y_val )\n"
      ],
      "execution_count": null,
      "outputs": [
        {
          "output_type": "stream",
          "text": [
            "/usr/local/lib/python3.6/dist-packages/ipykernel_launcher.py:11: RuntimeWarning: overflow encountered in exp\n",
            "  # This is added back by InteractiveShellApp.init_path()\n"
          ],
          "name": "stderr"
        }
      ]
    },
    {
      "cell_type": "markdown",
      "metadata": {
        "id": "jwZtg03a7pqr"
      },
      "source": [
        "getting accuracy for traing and test generated_ data"
      ]
    },
    {
      "cell_type": "code",
      "metadata": {
        "id": "Bdw7rJqF7nWx",
        "colab": {
          "base_uri": "https://localhost:8080/"
        },
        "outputId": "cafa0b86-34c9-4819-b310-5be0a03dbc63"
      },
      "source": [
        "print(\"Training_Accuracy\", round(accuracy_train,2))\n",
        "print(\"Validation_Accuracy\", round(accuracy_val,2))"
      ],
      "execution_count": null,
      "outputs": [
        {
          "output_type": "stream",
          "text": [
            "Training_Accuracy 0.54\n",
            "Validation_Accuracy 0.51\n"
          ],
          "name": "stdout"
        }
      ]
    },
    {
      "cell_type": "code",
      "metadata": {
        "id": "oGQfVEQQ-8LU",
        "colab": {
          "base_uri": "https://localhost:8080/",
          "height": 265
        },
        "outputId": "d926c899-1249-4aff-ed9d-82e0df742e7b"
      },
      "source": [
        "plt.scatter( X_train[:,0] , X_train[:,1] , c=Y_pred_binarized_train , cmap=my_cmap , s = 15*(Y_pred_binarized_train^Y_train)+0.2)\n",
        "plt.show() "
      ],
      "execution_count": null,
      "outputs": [
        {
          "output_type": "display_data",
          "data": {
            "image/png": "[encoded data removed]",
            "text/plain": [
              "<Figure size 432x288 with 1 Axes>"
            ]
          },
          "metadata": {
            "tags": [],
            "needs_background": "light"
          }
        }
      ]
    },
    {
      "cell_type": "code",
      "metadata": {
        "id": "K-FdpG7p_z_b",
        "colab": {
          "base_uri": "https://localhost:8080/",
          "height": 265
        },
        "outputId": "fac504dc-b66a-4c84-aa90-825d30224f55"
      },
      "source": [
        "plt.scatter( X_val[:,0] , X_val[:,1] , c=Y_pred_binarized_val , cmap=my_cmap , s = 15*(Y_pred_binarized_val^Y_val)+0.2)\n",
        "plt.show() "
      ],
      "execution_count": null,
      "outputs": [
        {
          "output_type": "display_data",
          "data": {
            "image/png": "[encoded data removed]",
            "text/plain": [
              "<Figure size 432x288 with 1 Axes>"
            ]
          },
          "metadata": {
            "tags": [],
            "needs_background": "light"
          }
        }
      ]
    },
    {
      "cell_type": "markdown",
      "metadata": {
        "id": "rfi7bCZvABxF"
      },
      "source": [
        "We can show that above data isn't linearly seperable so that with the help of sigmoid nueron we can't acheive our best predicition goal. "
      ]
    },
    {
      "cell_type": "code",
      "metadata": {
        "id": "8u6bVblAr-rd"
      },
      "source": [
        "class FirstFFNetwork:\n",
        "\n",
        "  def __init__(self):\n",
        "    self.w1 = np.random.randn();\n",
        "    self.w2 = np.random.randn();\n",
        "    self.w3 = np.random.randn();\n",
        "    self.w4 = np.random.randn();\n",
        "    self.w5 = np.random.randn();\n",
        "    self.w6 = np.random.randn();\n",
        "    self.b1 = 0;\n",
        "    self.b2 = 0;\n",
        "    self.b3 = 0;\n",
        "\n",
        "  def sigmoid(self , x):\n",
        "    return 1.0 / (1.0 + np.exp(-x));\n",
        "\n",
        "  def forward_pass(self, x):\n",
        "    self.x1 , self.x2 = x\n",
        "    self.a1 = self.w1 * self.x1 + self.w2 * self.x2 + self.b1\n",
        "    self.h1 = self.sigmoid( self.a1 )\n",
        "    self.a2 = self.w3 * self.x1 + self.w4 * self.x2 + self.b2\n",
        "    self.h2 = self.sigmoid( self.a2 )\n",
        "    self.a3 = self.w5 * self.h1 + self.w6 * self.h2 + self.b3\n",
        "    self.h3 = self.sigmoid( self.a3 )\n",
        "    return self.h3\n",
        "\n",
        "  def grad(self , x, y ):\n",
        "    self.forward_pass(x)\n",
        "\n",
        "    self.dw5 = (self.h3-y) * self.h3 * (1-self.h3) * self.h1\n",
        "    self.dw6 = (self.h3-y) * self.h3 * (1-self.h3) * self.h2\n",
        "    self.db3 = (self.h3-y) * self.h3 * (1-self.h3)\n",
        "\n",
        "    self.dw1 = (self.h3-y) * self.h3 * (1-self.h3) * self.w5 * self.h1 * (1-self.h1) * self.x1\n",
        "    self.dw2 = (self.h3-y) * self.h3 * (1-self.h3) * self.w5 * self.h1 * (1-self.h1) * self.x2\n",
        "    self.db1 = (self.h3-y) * self.h3 * (1-self.h3) * self.w5 * self.h1 * (1-self.h1) \n",
        "\n",
        "    self.dw3 = (self.h3-y) * self.h3 * (1-self.h3) * self.w6 * self.h2 * (1-self.h2) * self.x1\n",
        "    self.dw4 = (self.h3-y) * self.h3 * (1-self.h3) * self.w6 * self.h2 * (1-self.h2) * self.x2\n",
        "    self.db2 = (self.h3-y) * self.h3 * (1-self.h3) * self.w6 * self.h2 * (1-self.h2) \n",
        "\n",
        "  def fit( self , X, Y, epochs = 1, learning_rate = 1, initialise = True , display_loss = False):\n",
        "\n",
        "    if initialise :\n",
        "      self.w1 = np.random.randn();\n",
        "      self.w2 = np.random.randn();\n",
        "      self.w3 = np.random.randn();\n",
        "      self.w4 = np.random.randn();\n",
        "      self.w5 = np.random.randn();\n",
        "      self.w6 = np.random.randn();\n",
        "      self.b1 = 0;\n",
        "      self.b2 = 0;\n",
        "      self.b3 = 0;\n",
        "\n",
        "    if display_loss:\n",
        "      loss = np.ones( epochs )\n",
        "\n",
        "    for i in tqdm_notebook(range(epochs) , total = epochs , unit = \"epoch\" ):\n",
        "      dw1,dw2,dw3,dw4,dw5,dw6 = [0]*6\n",
        "      db1,db2,db3 = [0]*3\n",
        "\n",
        "      for x,y in zip(X,Y) :\n",
        "        self.grad(x,y)\n",
        "        dw1 += self.dw1\n",
        "        dw2 += self.dw2\n",
        "        dw3 += self.dw3\n",
        "        dw4 += self.dw4\n",
        "        dw5 += self.dw5\n",
        "        dw6 += self.dw6\n",
        "        db1 += self.db1\n",
        "        db2 += self.db2\n",
        "        db3 += self.db3\n",
        "\n",
        "      m = X.shape[1]\n",
        "      \n",
        "      dw1 /= m\n",
        "      dw2 /= m\n",
        "      dw3 /= m\n",
        "      dw4 /= m\n",
        "      dw5 /= m\n",
        "      dw6 /= m\n",
        "      db1 /= m\n",
        "      db2 /= m\n",
        "      db3 /= m\n",
        "\n",
        "      self.w1 = self.w1 - dw1 * learning_rate\n",
        "      self.w2 = self.w2 - dw2 * learning_rate\n",
        "      self.w3 = self.w3 - dw3 * learning_rate\n",
        "      self.w4 = self.w4 - dw4 * learning_rate\n",
        "      self.w5 = self.w5 - dw5 * learning_rate\n",
        "      self.w6 = self.w6 - dw6 * learning_rate\n",
        "      self.b1 = self.b1 - db1 * learning_rate\n",
        "      self.b2 = self.b2 - db2 * learning_rate\n",
        "      self.b3 = self.b3 - db3 * learning_rate\n",
        "\n",
        "      if display_loss:\n",
        "        Y_pred = self.predict(X) \n",
        "        loss[i] = mean_squared_error(Y,Y_pred)\n",
        "\n",
        "    if display_loss:\n",
        "      plt.plot(loss)\n",
        "      plt.xlabel(\"Epochs\")\n",
        "      plt.ylabel(\"Mean Squared Error\")\n",
        "      plt.show()\n",
        "\n",
        "  def predict(self,X):\n",
        "    Y_pred = []\n",
        "    for x in X:\n",
        "      y_pred = self.forward_pass(x)\n",
        "      Y_pred.append( y_pred )\n",
        "    return np.array(Y_pred)\n"
      ],
      "execution_count": null,
      "outputs": []
    },
    {
      "cell_type": "code",
      "metadata": {
        "id": "nk-0R2KJMn3Q",
        "colab": {
          "base_uri": "https://localhost:8080/",
          "height": 362,
          "referenced_widgets": [
            "78e2b85320a64280900e26fd40c734d2",
            "73f2b0a1a9b54245b804e8a6fb85696a",
            "354c4aad6b0440db973ad0d6721cf062",
            "9c0e45902b614e43929432fbc61bbf74",
            "dc005e5eb40a484f892e3e80a4dc4d51",
            "2bc25c95a04a493aa1d951e210c27fc5",
            "ddcbd05fe7a64ac7aa1425c8236b6b54",
            "cc017f435454479ba5c97cb784973f2f"
          ]
        },
        "outputId": "dd3da7cc-e368-4fc3-f8e0-3c91814618a1"
      },
      "source": [
        "sn = FirstFFNetwork()\n",
        "sn.fit( X_train , Y_train , epochs = 2000 ,learning_rate = 0.01, display_loss = True)"
      ],
      "execution_count": null,
      "outputs": [
        {
          "output_type": "stream",
          "text": [
            "/usr/local/lib/python3.6/dist-packages/ipykernel_launcher.py:58: TqdmDeprecationWarning: This function will be removed in tqdm==5.0.0\n",
            "Please use `tqdm.notebook.tqdm` instead of `tqdm.tqdm_notebook`\n"
          ],
          "name": "stderr"
        },
        {
          "output_type": "display_data",
          "data": {
            "application/vnd.jupyter.widget-view+json": {
              "model_id": "78e2b85320a64280900e26fd40c734d2",
              "version_minor": 0,
              "version_major": 2
            },
            "text/plain": [
              "HBox(children=(FloatProgress(value=0.0, max=2000.0), HTML(value='')))"
            ]
          },
          "metadata": {
            "tags": []
          }
        },
        {
          "output_type": "stream",
          "text": [
            "\n"
          ],
          "name": "stdout"
        },
        {
          "output_type": "display_data",
          "data": {
            "image/png": "[encoded data removed]",
            "text/plain": [
              "<Figure size 432x288 with 1 Axes>"
            ]
          },
          "metadata": {
            "tags": [],
            "needs_background": "light"
          }
        }
      ]
    },
    {
      "cell_type": "code",
      "metadata": {
        "id": "KqkQp-J4NBNA"
      },
      "source": [
        "Y_pred_train = sn.predict( X_train )\n",
        "Y_pred_binarized_train = (Y_pred_train >= 0.5 ).astype( \"int\" ).ravel()\n",
        "Y_pred_val = sn.predict( X_val )\n",
        "Y_pred_binarized_val = (Y_pred_val >= 0.5 ).astype( \"int\" ).ravel()\n",
        "accuracy_train = accuracy_score( Y_pred_binarized_train , Y_train )\n",
        "accuracy_val = accuracy_score( Y_pred_binarized_val , Y_val )"
      ],
      "execution_count": null,
      "outputs": []
    },
    {
      "cell_type": "code",
      "metadata": {
        "id": "-bvyuf_cNIZK",
        "colab": {
          "base_uri": "https://localhost:8080/"
        },
        "outputId": "aeac3e87-59ca-4c8e-90b9-6b68a0f4da83"
      },
      "source": [
        "print(\"Training_Accuracy\", round(accuracy_train,2))\n",
        "print(\"Validation_Accuracy\", round(accuracy_val,2))"
      ],
      "execution_count": null,
      "outputs": [
        {
          "output_type": "stream",
          "text": [
            "Training_Accuracy 0.98\n",
            "Validation_Accuracy 0.94\n"
          ],
          "name": "stdout"
        }
      ]
    },
    {
      "cell_type": "code",
      "metadata": {
        "id": "71X5jdInNOlE",
        "colab": {
          "base_uri": "https://localhost:8080/",
          "height": 265
        },
        "outputId": "704893d7-f551-4de2-c1ab-602a931a8121"
      },
      "source": [
        "plt.scatter( X_train[:,0] , X_train[:,1] , c=Y_pred_binarized_train , cmap=my_cmap , s = 15*(Y_pred_binarized_train^Y_train)+0.2)\n",
        "plt.show() "
      ],
      "execution_count": null,
      "outputs": [
        {
          "output_type": "display_data",
          "data": {
            "image/png": "[encoded data removed]",
            "text/plain": [
              "<Figure size 432x288 with 1 Axes>"
            ]
          },
          "metadata": {
            "tags": [],
            "needs_background": "light"
          }
        }
      ]
    },
    {
      "cell_type": "code",
      "metadata": {
        "id": "Ix87skWoQBXf"
      },
      "source": [
        "class FFNNetwork:\n",
        "\n",
        "  def __init__( self, n_inputs , hidden_sizes = [2]): # hidden_sizes basically make using list where each entry define as a how much nueron in that layer\n",
        "    self.nx = n_inputs\n",
        "    self.ny = 1\n",
        "    self.nh = len(hidden_sizes)\n",
        "    self.sizes = [self.nx] + hidden_sizes + [self.ny]\n",
        "\n",
        "    self.W = {}\n",
        "    self.B = {}\n",
        "\n",
        "    for i in range(self.nh+1):\n",
        "      self.W[i+1] = np.random.randn(self.sizes[i] , self.sizes[i+1] )\n",
        "      self.B[i+1] = np.zeros((1, self.sizes[i+1]))\n",
        "\n",
        "  def sigmoid(self , x):\n",
        "    return 1.0 / (1.0 + np.exp(-x));\n",
        "\n",
        "  def forward_pass( self, x):\n",
        "    self.A = {}\n",
        "    self.H = {}\n",
        "    \n",
        "    self.H[0] = x.reshape(1,-1)\n",
        "\n",
        "    for i in range(self.nh+1):\n",
        "      self.A[i+1] = np.matmul( self.H[i] , self.W[i+1] )  + self.B[i+1]\n",
        "      self.H[i+1] = self.sigmoid(self.A[i+1])\n",
        "    return self.H[self.nh+1]\n",
        "\n",
        "  def grad_sigmoid(self, x):\n",
        "    return x*(1-x)\n",
        "\n",
        "  def grad( self, x, y ):\n",
        "    self.forward_pass(x)\n",
        "    L = self.nh+1\n",
        "    self.dW = {}\n",
        "    self.dB = {}\n",
        "    self.dH = {}\n",
        "    self.dA = {}\n",
        "    \n",
        "    self.dA[L] = self.H[L] - y\n",
        "    for k in range(L,0,-1):\n",
        "      self.dW[k] = np.matmul( self.H[k-1].T , self.dA[k] )\n",
        "      self.dB[k] = self.dA[k]\n",
        "      self.dH[k-1] = np.matmul( self.dA[k] , self.W[k].T )\n",
        "      self.dA[k-1] = np.multiply( self.dH[k-1] , self.grad_sigmoid(self.H[k-1]))\n",
        "\n",
        "  def fit( self , X, Y, epochs = 1, learning_rate = 1, initialise = True , display_loss = False):\n",
        "    if initialise :\n",
        "      for i in range(self.nh+1):\n",
        "        self.W[i+1] = np.random.randn( self.sizes[i] , self.sizes[i+1] )\n",
        "        self.B[i+1] = np.zeros((1, self.sizes[i+1]))\n",
        "\n",
        "    if display_loss:\n",
        "      loss = np.ones( epochs )\n",
        "\n",
        "    for e in tqdm_notebook(range(epochs) , total = epochs , unit = \"epoch\" ):\n",
        "      \n",
        "      dW = {}\n",
        "      dB = {}\n",
        "\n",
        "      for i in range(self.nh+1):\n",
        "        dW[i+1] = np.zeros((self.sizes[i] , self.sizes[i+1]) )\n",
        "        dB[i+1] = np.zeros((1, self.sizes[i+1]))\n",
        "\n",
        "      for x,y in zip(X,Y) :\n",
        "        self.grad(x,y)\n",
        "        for i in range(self.nh+1):\n",
        "          dW[i+1] += self.dW[i+1]\n",
        "          dB[i+1] += self.dB[i+1]\n",
        "\n",
        "      m = X.shape[1]\n",
        "      \n",
        "      for i in range(self.nh+1):\n",
        "        self.W[i+1] -= dW[i+1]/m * learning_rate\n",
        "        self.B[i+1] -= dB[i+1]/m * learning_rate\n",
        "      \n",
        "      if display_loss:\n",
        "        Y_pred = self.predict(X) \n",
        "        loss[e] = mean_squared_error(Y,Y_pred)\n",
        "\n",
        "    if display_loss:\n",
        "      plt.plot(loss)\n",
        "      plt.xlabel(\"Epochs\")\n",
        "      plt.ylabel(\"Mean Squared Error\")\n",
        "      plt.show()\n",
        "\n",
        "  def predict(self,X):\n",
        "    Y_pred = []\n",
        "    for x in X:\n",
        "      y_pred = self.forward_pass(x)\n",
        "      Y_pred.append( y_pred )\n",
        "    return np.array(Y_pred).squeeze()\n"
      ],
      "execution_count": null,
      "outputs": []
    },
    {
      "cell_type": "code",
      "metadata": {
        "id": "qFrBwpGilq4e",
        "colab": {
          "base_uri": "https://localhost:8080/",
          "height": 380,
          "referenced_widgets": [
            "b29ddd0c37434a70bf615c702a25eea9",
            "a7fcec6516a7451cb8d73c4d74879d86",
            "c46f061a5ab342bdb8f246e8c442c1cf",
            "a99d0c2e7b3f4486884cab024c696243",
            "fffc2d092a7e4ff0a088df1dc78d7500",
            "67dbd7b79ea541b1a3efa43b938b6cf5",
            "d4b1467e65dd4ce0b96445f886c6345c",
            "f61410a4e963435babda733edc715001"
          ]
        },
        "outputId": "2e5f04f2-f1b7-4b03-fb3e-b101b9c849c3"
      },
      "source": [
        "sn = FFNNetwork(2,[2,3])\n",
        "print(X_train.ndim)\n",
        "sn.fit( X_train , Y_train , epochs = 1000 ,learning_rate = 0.001, display_loss = True)"
      ],
      "execution_count": null,
      "outputs": [
        {
          "output_type": "stream",
          "text": [
            "2\n"
          ],
          "name": "stdout"
        },
        {
          "output_type": "stream",
          "text": [
            "/usr/local/lib/python3.6/dist-packages/ipykernel_launcher.py:57: TqdmDeprecationWarning: This function will be removed in tqdm==5.0.0\n",
            "Please use `tqdm.notebook.tqdm` instead of `tqdm.tqdm_notebook`\n"
          ],
          "name": "stderr"
        },
        {
          "output_type": "display_data",
          "data": {
            "application/vnd.jupyter.widget-view+json": {
              "model_id": "b29ddd0c37434a70bf615c702a25eea9",
              "version_minor": 0,
              "version_major": 2
            },
            "text/plain": [
              "HBox(children=(FloatProgress(value=0.0, max=1000.0), HTML(value='')))"
            ]
          },
          "metadata": {
            "tags": []
          }
        },
        {
          "output_type": "stream",
          "text": [
            "\n"
          ],
          "name": "stdout"
        },
        {
          "output_type": "display_data",
          "data": {
            "image/png": "[encoded data removed]",
            "text/plain": [
              "<Figure size 432x288 with 1 Axes>"
            ]
          },
          "metadata": {
            "tags": [],
            "needs_background": "light"
          }
        }
      ]
    },
    {
      "cell_type": "code",
      "metadata": {
        "id": "zByc26Wn0BpQ"
      },
      "source": [
        "Y_pred_train = sn.predict( X_train )\n",
        "Y_pred_binarized_train = (Y_pred_train >= 0.5 ).astype( \"int\" ).ravel()\n",
        "Y_pred_val = sn.predict( X_val )\n",
        "Y_pred_binarized_val = (Y_pred_val >= 0.5 ).astype( \"int\" ).ravel()\n",
        "accuracy_train = accuracy_score( Y_pred_binarized_train , Y_train )\n",
        "accuracy_val = accuracy_score( Y_pred_binarized_val , Y_val )"
      ],
      "execution_count": null,
      "outputs": []
    },
    {
      "cell_type": "code",
      "metadata": {
        "id": "3HEAiKpi0FA1",
        "colab": {
          "base_uri": "https://localhost:8080/"
        },
        "outputId": "1a41d3b6-078f-4253-e145-1a157bdfa1f3"
      },
      "source": [
        "print(\"Training_Accuracy\", round(accuracy_train,2))\n",
        "print(\"Validation_Accuracy\", round(accuracy_val,2))"
      ],
      "execution_count": null,
      "outputs": [
        {
          "output_type": "stream",
          "text": [
            "Training_Accuracy 0.97\n",
            "Validation_Accuracy 0.94\n"
          ],
          "name": "stdout"
        }
      ]
    },
    {
      "cell_type": "code",
      "metadata": {
        "id": "L9UePHFe0zu3",
        "colab": {
          "base_uri": "https://localhost:8080/",
          "height": 265
        },
        "outputId": "0dbf06ef-acd6-4dae-dedc-63ed9ca1af3c"
      },
      "source": [
        "plt.scatter( X_train[:,0] , X_train[:,1] , c=Y_pred_binarized_train , cmap=my_cmap , s = 15*(Y_pred_binarized_train^Y_train)+0.2)\n",
        "plt.show() "
      ],
      "execution_count": null,
      "outputs": [
        {
          "output_type": "display_data",
          "data": {
            "image/png": "[encoded data removed]",
            "text/plain": [
              "<Figure size 432x288 with 1 Axes>"
            ]
          },
          "metadata": {
            "tags": [],
            "needs_background": "light"
          }
        }
      ]
    },
    {
      "cell_type": "markdown",
      "metadata": {
        "id": "qzX6jwakeUas"
      },
      "source": [
        "Multiple class"
      ]
    },
    {
      "cell_type": "code",
      "metadata": {
        "id": "hN2KivJu02GH",
        "colab": {
          "base_uri": "https://localhost:8080/"
        },
        "outputId": "88c40d39-2438-45b8-eb5e-e3c8dfd1efc6"
      },
      "source": [
        "X_train , X_val , Y_train , Y_val = train_test_split( data, labels_org , stratify =labels_org , random_state =0)"
      ],
      "execution_count": null,
      "outputs": [
        {
          "output_type": "stream",
          "text": [
            "[0 2 0 3 2 0 1 3 1 2 1 1 2 3 3 1 0 2 3 3 1 0 2 2 3 3 1 2 2 3 2 2 1 2 0 2 2\n",
            " 3 2 0 3 2 1 1 2 3 3 2 2 0 0 0 0 0 0 1 3 0 3 0 0 0 3 3 1 2 1 1 0 2 1 3 0 1\n",
            " 3 1 0 0 2 3 0 2 3 1 2 3 3 0 3 1 2 2 2 3 3 1 2 2 0 3 1 3 1 3 3 1 1 0 1 0 1\n",
            " 0 3 3 2 3 3 2 1 1 3 3 1 1 3 2 2 2 3 0 2 1 1 0 0 0 3 0 3 1 2 3 1 0 2 2 3 2\n",
            " 1 0 1 3 1 0 2 0 3 3 0 0 1 2 3 0 1 0 0 1 0 0 3 0 1 1 2 1 1 0 3 1 1 3 2 0 1\n",
            " 3 2 0 2 1 2 1 1 2 2 0 3 3 1 0 1 3 0 0 1 0 1 2 1 3 0 2 0 1 3 0 2 3 2 3 2 3\n",
            " 1 0 3 3 1 2 2 3 0 2 0 2 1 2 2 1 2 0 0 0 0 1 1 0 2 1 2 3]\n"
          ],
          "name": "stdout"
        }
      ]
    },
    {
      "cell_type": "code",
      "metadata": {
        "id": "u-TqTnR9pcES"
      },
      "source": [
        "class FFN_Multiclass:\n",
        "\n",
        "  def __init__( self, n_inputs , n_outputs, hidden_sizes = [2]): # hidden_sizes basically make using list where each entry define as a how much nueron in that layer\n",
        "    self.nx = n_inputs\n",
        "    self.ny = n_outputs\n",
        "    self.nh = len(hidden_sizes)\n",
        "    self.sizes = [self.nx] + hidden_sizes + [self.ny]\n",
        "\n",
        "    self.W = {}\n",
        "    self.B = {}\n",
        "\n",
        "    for i in range(self.nh+1):\n",
        "      self.W[i+1] = np.random.randn(self.sizes[i] , self.sizes[i+1] )\n",
        "      self.B[i+1] = np.zeros((1, self.sizes[i+1]))\n",
        "\n",
        "  def sigmoid(self , x):\n",
        "    return 1.0 / (1.0 + np.exp(-x));\n",
        "\n",
        "  def forward_pass( self, x):\n",
        "    self.A = {}\n",
        "    self.H = {}\n",
        "    \n",
        "    self.H[0] = x.reshape(1,-1)\n",
        "\n",
        "    for i in range(self.nh+1):\n",
        "      self.A[i+1] = np.matmul( self.H[i] , self.W[i+1] )  + self.B[i+1]\n",
        "      self.H[i+1] = self.sigmoid(self.A[i+1])\n",
        "    self.H[self.nh+1] = self.softmax( self.A[self.nh+1] )\n",
        "    return self.H[self.nh+1]\n",
        "\n",
        "  def grad_sigmoid(self, x):\n",
        "    return x*(1-x)\n",
        "\n",
        "  def cross_entropy(self, label , pred):\n",
        "    y = np.multiply(label , pred)\n",
        "    y = y[y!=0]  # remove the entry whose value is zero\n",
        "    y = -np.log(y)\n",
        "    y = np.mean(y)\n",
        "    return y\n",
        "\n",
        "  def softmax( self, x):\n",
        "    exps = np.exp(x)\n",
        "    return exps / np.sum(exps)\n",
        "\n",
        "  def grad( self, x, y ):\n",
        "    self.forward_pass(x)\n",
        "    L = self.nh+1\n",
        "    self.dW = {}\n",
        "    self.dB = {}\n",
        "    self.dH = {}\n",
        "    self.dA = {}\n",
        "    #print(y.shape , self.H[L].shape)\n",
        "    self.dA[L] = self.H[L] - y\n",
        "    for k in range(L,0,-1):\n",
        "      self.dW[k] = np.matmul( self.H[k-1].T , self.dA[k] )\n",
        "      self.dB[k] = self.dA[k]\n",
        "      self.dH[k-1] = np.matmul( self.dA[k] , self.W[k].T )\n",
        "      self.dA[k-1] = np.multiply( self.dH[k-1] , self.grad_sigmoid(self.H[k-1]))\n",
        "\n",
        "  def fit( self , X, Y, epochs = 1, learning_rate = 1, initialise = True , display_loss = False):\n",
        "    if initialise :\n",
        "      for i in range(self.nh+1):\n",
        "        self.W[i+1] = np.random.randn( self.sizes[i] , self.sizes[i+1] )\n",
        "        self.B[i+1] = np.zeros((1, self.sizes[i+1]))\n",
        "\n",
        "    if display_loss:\n",
        "      loss = np.ones( epochs )\n",
        "\n",
        "    for e in tqdm_notebook(range(epochs) , total = epochs , unit = \"epoch\" ):\n",
        "      \n",
        "      dW = {}\n",
        "      dB = {}\n",
        "\n",
        "      for i in range(self.nh+1):\n",
        "        dW[i+1] = np.zeros((self.sizes[i] , self.sizes[i+1]) )\n",
        "        dB[i+1] = np.zeros((1, self.sizes[i+1]))\n",
        "\n",
        "      for x,y in zip(X,Y) :\n",
        "        self.grad(x,y)\n",
        "        for i in range(self.nh+1):\n",
        "          dW[i+1] += self.dW[i+1]\n",
        "          dB[i+1] += self.dB[i+1]\n",
        "\n",
        "      m = X.shape[1]\n",
        "      \n",
        "      for i in range(self.nh+1):\n",
        "        self.W[i+1] -= dW[i+1]/m * learning_rate\n",
        "        self.B[i+1] -= dB[i+1]/m * learning_rate\n",
        "      \n",
        "      if display_loss:\n",
        "        Y_pred = self.predict(X) \n",
        "        loss[e] = self.cross_entropy(Y,Y_pred)\n",
        "\n",
        "    if display_loss:\n",
        "      plt.plot(loss)\n",
        "      plt.xlabel(\"Epochs\")\n",
        "      plt.ylabel(\"CE\")\n",
        "      plt.show()\n",
        "\n",
        "  def predict(self,X):\n",
        "    Y_pred = []\n",
        "    for x in X:\n",
        "      y_pred = self.forward_pass(x)\n",
        "      Y_pred.append( y_pred )\n",
        "    return np.array(Y_pred).squeeze()\n"
      ],
      "execution_count": null,
      "outputs": []
    },
    {
      "cell_type": "code",
      "metadata": {
        "id": "1iXk-u29D4J0",
        "colab": {
          "base_uri": "https://localhost:8080/",
          "height": 362,
          "referenced_widgets": [
            "1c8e345bbca74e53ac582ef4df44ad43",
            "f9d4e679a0034014bc018d40fa209a88",
            "c58a07ac86274a71b4360781a7d08cf3",
            "5cd010c77af74004a9bc0ac496631172",
            "0d3261961823457d9f3a213132d570b6",
            "461b1a31238b48d4b392be9f63e7153a",
            "3c5e408cb3e840feb5c08183a00a5e64",
            "3164ee31b344453981836f666ad95c61"
          ]
        },
        "outputId": "1e6fbf37-274d-4d8f-f980-ddcd18a39c3f"
      },
      "source": [
        "ffsn_multi = FFN_Multiclass(2,4,[2,4])\n",
        "ffsn_multi.fit( X_train , Y_OHTrain , epochs = 2000 ,learning_rate = 0.001, display_loss = True)"
      ],
      "execution_count": null,
      "outputs": [
        {
          "output_type": "stream",
          "text": [
            "/usr/local/lib/python3.6/dist-packages/ipykernel_launcher.py:69: TqdmDeprecationWarning: This function will be removed in tqdm==5.0.0\n",
            "Please use `tqdm.notebook.tqdm` instead of `tqdm.tqdm_notebook`\n"
          ],
          "name": "stderr"
        },
        {
          "output_type": "display_data",
          "data": {
            "application/vnd.jupyter.widget-view+json": {
              "model_id": "1c8e345bbca74e53ac582ef4df44ad43",
              "version_minor": 0,
              "version_major": 2
            },
            "text/plain": [
              "HBox(children=(FloatProgress(value=0.0, max=2000.0), HTML(value='')))"
            ]
          },
          "metadata": {
            "tags": []
          }
        },
        {
          "output_type": "stream",
          "text": [
            "\n"
          ],
          "name": "stdout"
        },
        {
          "output_type": "display_data",
          "data": {
            "image/png": "[encoded data removed]",
            "text/plain": [
              "<Figure size 432x288 with 1 Axes>"
            ]
          },
          "metadata": {
            "tags": [],
            "needs_background": "light"
          }
        }
      ]
    },
    {
      "cell_type": "code",
      "metadata": {
        "id": "d0tcJ5w5EgwV"
      },
      "source": [
        "Y_pred_train = ffsn_multi.predict( X_train )\n",
        "Y_pred_train = np.argmax( Y_pred_train , 1)\n",
        "Y_pred_val = ffsn_multi.predict( X_val )\n",
        "Y_pred_val = np.argmax( Y_pred_val , 1)\n",
        "\n",
        "accuracy_train = accuracy_score( Y_pred_train , Y_train )\n",
        "accuracy_val = accuracy_score( Y_pred_val , Y_val )"
      ],
      "execution_count": null,
      "outputs": []
    },
    {
      "cell_type": "code",
      "metadata": {
        "id": "brCJS5KrFMUz",
        "colab": {
          "base_uri": "https://localhost:8080/",
          "height": 265
        },
        "outputId": "b3f790fc-6212-4b8c-8f42-61fd9d294b2c"
      },
      "source": [
        "plt.scatter( X_train[:,0] , X_train[:,1] , c=Y_pred_train , cmap=my_cmap , s = 15*(Y_pred_train!=Y_train)+0.2)\n",
        "plt.show() "
      ],
      "execution_count": null,
      "outputs": [
        {
          "output_type": "display_data",
          "data": {
            "image/png": "[encoded data removed]",
            "text/plain": [
              "<Figure size 432x288 with 1 Axes>"
            ]
          },
          "metadata": {
            "tags": [],
            "needs_background": "light"
          }
        }
      ]
    },
    {
      "cell_type": "code",
      "metadata": {
        "id": "IAIBvth2FqM7",
        "colab": {
          "base_uri": "https://localhost:8080/"
        },
        "outputId": "8c585cdf-4bb5-4c85-a4ad-d0478efafc22"
      },
      "source": [
        "print(\"Training_Accuracy\", round(accuracy_train,2))\n",
        "print(\"Validation_Accuracy\", round(accuracy_val,2))"
      ],
      "execution_count": null,
      "outputs": [
        {
          "output_type": "stream",
          "text": [
            "Training_Accuracy 0.92\n",
            "Validation_Accuracy 0.94\n"
          ],
          "name": "stdout"
        }
      ]
    }
  ]
}