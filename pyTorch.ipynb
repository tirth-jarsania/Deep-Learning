{
  "nbformat": 4,
  "nbformat_minor": 0,
  "metadata": {
    "colab": {
      "name": "pyTorch.ipynb",
      "provenance": [],
      "authorship_tag": "ABX9TyN/d/VqE6MgyoH7ohJ/kNep",
      "include_colab_link": true
    },
    "kernelspec": {
      "name": "python3",
      "display_name": "Python 3"
    },
    "accelerator": "GPU"
  },
  "cells": [
    {
      "cell_type": "markdown",
      "metadata": {
        "id": "view-in-github",
        "colab_type": "text"
      },
      "source": [
        "<a href=\"https://colab.research.google.com/github/tirth-jarsania/Deep-Learning/blob/main/pyTorch.ipynb\" target=\"_parent\"><img src=\"https://colab.research.google.com/assets/colab-badge.svg\" alt=\"Open In Colab\"/></a>"
      ]
    },
    {
      "cell_type": "code",
      "metadata": {
        "id": "U9LVQXhxQl-J"
      },
      "source": [
        "import torch as jt # in locally installed\n",
        "import numpy as np\n",
        "import matplotlib.pyplot as plt"
      ],
      "execution_count": null,
      "outputs": []
    },
    {
      "cell_type": "code",
      "metadata": {
        "colab": {
          "base_uri": "https://localhost:8080/"
        },
        "id": "5LozLFphSEwj",
        "outputId": "ae98a3d0-b5ba-4d15-b4b8-147626f8d7f7"
      },
      "source": [
        "x = jt.ones(2,3)\n",
        "print(x)\n",
        "x = jt.zeros(2,3)\n",
        "print(x)\n",
        "x = jt.rand(2,3)\n",
        "print(x)"
      ],
      "execution_count": null,
      "outputs": [
        {
          "output_type": "stream",
          "text": [
            "tensor([[1., 1., 1.],\n",
            "        [1., 1., 1.]])\n",
            "tensor([[0., 0., 0.],\n",
            "        [0., 0., 0.]])\n",
            "tensor([[0.6544, 0.6975, 0.9843],\n",
            "        [0.0358, 0.8912, 0.9611]])\n"
          ],
          "name": "stdout"
        }
      ]
    },
    {
      "cell_type": "code",
      "metadata": {
        "colab": {
          "base_uri": "https://localhost:8080/"
        },
        "id": "PTe8uxYQS8ev",
        "outputId": "2fbdc7dc-1710-4c62-b1de-9e3b34281bd9"
      },
      "source": [
        "x = jt.empty(2,3)\n",
        "print(x)\n",
        "x = jt.zeros_like(x)\n",
        "print(x)"
      ],
      "execution_count": null,
      "outputs": [
        {
          "output_type": "stream",
          "text": [
            "tensor([[1.0901e-35, 0.0000e+00, 3.3631e-44],\n",
            "        [0.0000e+00,        nan, 1.0000e+00]])\n",
            "tensor([[0., 0., 0.],\n",
            "        [0., 0., 0.]])\n"
          ],
          "name": "stdout"
        }
      ]
    },
    {
      "cell_type": "code",
      "metadata": {
        "colab": {
          "base_uri": "https://localhost:8080/"
        },
        "id": "XJQP9ip6TDkH",
        "outputId": "26a96179-05bb-4496-90aa-e05bcdc92104"
      },
      "source": [
        "x = jt.linspace(0,1,steps=5)\n",
        "print(x)"
      ],
      "execution_count": null,
      "outputs": [
        {
          "output_type": "stream",
          "text": [
            "tensor([0.0000, 0.2500, 0.5000, 0.7500, 1.0000])\n"
          ],
          "name": "stdout"
        }
      ]
    },
    {
      "cell_type": "code",
      "metadata": {
        "colab": {
          "base_uri": "https://localhost:8080/"
        },
        "id": "tOfe2-u2T-9Y",
        "outputId": "02171d5f-b9b4-4e50-a0f2-8eb9d40381c7"
      },
      "source": [
        "x = x.view(5,-1)\n",
        "print(x)"
      ],
      "execution_count": null,
      "outputs": [
        {
          "output_type": "stream",
          "text": [
            "tensor([[0.0000],\n",
            "        [0.2500],\n",
            "        [0.5000],\n",
            "        [0.7500],\n",
            "        [1.0000]])\n"
          ],
          "name": "stdout"
        }
      ]
    },
    {
      "cell_type": "markdown",
      "metadata": {
        "id": "A0j9F8f8bduL"
      },
      "source": [
        "**Numpy Vs pyTorch**"
      ]
    },
    {
      "cell_type": "code",
      "metadata": {
        "colab": {
          "base_uri": "https://localhost:8080/"
        },
        "id": "Hg_YdFKYbZAp",
        "outputId": "7f4e212e-7db2-4d00-fe9c-9e8368aedca6"
      },
      "source": [
        "x_np = x.numpy()\n",
        "print( type(x) , type(x_np) )\n",
        "print( x_np )"
      ],
      "execution_count": null,
      "outputs": [
        {
          "output_type": "stream",
          "text": [
            "<class 'torch.Tensor'> <class 'numpy.ndarray'>\n",
            "[[0.  ]\n",
            " [0.25]\n",
            " [0.5 ]\n",
            " [0.75]\n",
            " [1.  ]]\n"
          ],
          "name": "stdout"
        }
      ]
    },
    {
      "cell_type": "code",
      "metadata": {
        "colab": {
          "base_uri": "https://localhost:8080/"
        },
        "id": "YgLlfS_-eDYG",
        "outputId": "aac3742c-e59b-4505-b3a6-9f6286148d90"
      },
      "source": [
        "x = jt.from_numpy(x_np)\n",
        "print( type(x) , type(x_np) )\n",
        "print( x )"
      ],
      "execution_count": null,
      "outputs": [
        {
          "output_type": "stream",
          "text": [
            "<class 'torch.Tensor'> <class 'numpy.ndarray'>\n",
            "tensor([[0.0000],\n",
            "        [0.2500],\n",
            "        [0.5000],\n",
            "        [0.7500],\n",
            "        [1.0000]])\n"
          ],
          "name": "stdout"
        }
      ]
    },
    {
      "cell_type": "code",
      "metadata": {
        "colab": {
          "base_uri": "https://localhost:8080/"
        },
        "id": "9JVFaEuldnGs",
        "outputId": "47c45af3-167c-4e80-cd97-22dccde3e822"
      },
      "source": [
        "%%time\n",
        "for i in range(10):\n",
        "  a = np.random.randn(10000)\n",
        "  b = np.random.randn(10000)\n",
        "  c = a * b"
      ],
      "execution_count": null,
      "outputs": [
        {
          "output_type": "stream",
          "text": [
            "CPU times: user 10.3 ms, sys: 790 µs, total: 11 ms\n",
            "Wall time: 12.3 ms\n"
          ],
          "name": "stdout"
        }
      ]
    },
    {
      "cell_type": "code",
      "metadata": {
        "colab": {
          "base_uri": "https://localhost:8080/"
        },
        "id": "i0TqI5C3d15U",
        "outputId": "48636014-4511-4d27-ef5e-3ccc806bff45"
      },
      "source": [
        "%%time\n",
        "for i in range(10):\n",
        "  a = jt.randn(10000)\n",
        "  b = jt.randn(10000)\n",
        "  c = a * b"
      ],
      "execution_count": null,
      "outputs": [
        {
          "output_type": "stream",
          "text": [
            "CPU times: user 3.64 ms, sys: 661 µs, total: 4.3 ms\n",
            "Wall time: 7.77 ms\n"
          ],
          "name": "stdout"
        }
      ]
    },
    {
      "cell_type": "markdown",
      "metadata": {
        "id": "PoxChK29erRK"
      },
      "source": [
        "**CUDA** **SUPPORT**"
      ]
    },
    {
      "cell_type": "code",
      "metadata": {
        "colab": {
          "base_uri": "https://localhost:8080/"
        },
        "id": "DxP_qyDZeyLN",
        "outputId": "b8663491-e1c1-40b8-83d3-59806d7d2d4a"
      },
      "source": [
        "print(jt.cuda.device_count())"
      ],
      "execution_count": null,
      "outputs": [
        {
          "output_type": "stream",
          "text": [
            "1\n"
          ],
          "name": "stdout"
        }
      ]
    },
    {
      "cell_type": "code",
      "metadata": {
        "colab": {
          "base_uri": "https://localhost:8080/"
        },
        "id": "xAWZ14Ede63H",
        "outputId": "fd276bc5-8542-4e78-d7c7-c5347d728a78"
      },
      "source": [
        "print(jt.cuda.device(0))"
      ],
      "execution_count": null,
      "outputs": [
        {
          "output_type": "stream",
          "text": [
            "<torch.cuda.device object at 0x7f017344d780>\n"
          ],
          "name": "stdout"
        }
      ]
    },
    {
      "cell_type": "code",
      "metadata": {
        "colab": {
          "base_uri": "https://localhost:8080/"
        },
        "id": "_DnkMrTWe7b8",
        "outputId": "af5806e2-2608-45ec-86ed-866f85bf2e36"
      },
      "source": [
        "print(jt.cuda.get_device_name(0))"
      ],
      "execution_count": null,
      "outputs": [
        {
          "output_type": "stream",
          "text": [
            "Tesla P100-PCIE-16GB\n"
          ],
          "name": "stdout"
        }
      ]
    },
    {
      "cell_type": "code",
      "metadata": {
        "id": "36XGYS08f6RZ"
      },
      "source": [
        "st = jt.device('cuda:0')"
      ],
      "execution_count": null,
      "outputs": []
    },
    {
      "cell_type": "code",
      "metadata": {
        "colab": {
          "base_uri": "https://localhost:8080/"
        },
        "id": "1ksLdzLkgb2p",
        "outputId": "f4228192-9530-4d7e-f063-37290f7006b1"
      },
      "source": [
        "a = jt.ones(3, 2, device=st )\n",
        "b = jt.ones(3, 2, device=st )\n",
        "c = a + b\n",
        "print( c )"
      ],
      "execution_count": null,
      "outputs": [
        {
          "output_type": "stream",
          "text": [
            "tensor([[2., 2.],\n",
            "        [2., 2.],\n",
            "        [2., 2.]], device='cuda:0')\n"
          ],
          "name": "stdout"
        }
      ]
    },
    {
      "cell_type": "code",
      "metadata": {
        "colab": {
          "base_uri": "https://localhost:8080/"
        },
        "id": "tvzF08LbgrVf",
        "outputId": "2b5ced58-4426-444f-94c7-538ec7a8278f"
      },
      "source": [
        "%%time\n",
        "for i in range(10):\n",
        "  a = jt.randn(10000,device=st )\n",
        "  b = jt.randn(10000,device=st )\n",
        "  c = a * b"
      ],
      "execution_count": null,
      "outputs": [
        {
          "output_type": "stream",
          "text": [
            "CPU times: user 942 µs, sys: 626 µs, total: 1.57 ms\n",
            "Wall time: 4.16 ms\n"
          ],
          "name": "stdout"
        }
      ]
    },
    {
      "cell_type": "markdown",
      "metadata": {
        "id": "NBUAK2CkUj3o"
      },
      "source": [
        "**Auto Grad**"
      ]
    },
    {
      "cell_type": "code",
      "metadata": {
        "colab": {
          "base_uri": "https://localhost:8080/"
        },
        "id": "mIUEjzhjUjcB",
        "outputId": "7fd9da85-c21d-40f2-c60b-a7ee53869dff"
      },
      "source": [
        "x = jt.ones([2,3],requires_grad = True)\n",
        "y = x + 5\n",
        "r = 1 / (1 + jt.exp(-y))\n",
        "a = jt.ones([2,3])\n",
        "r.backward(a)\n",
        "print(x.grad)"
      ],
      "execution_count": null,
      "outputs": [
        {
          "output_type": "stream",
          "text": [
            "tensor([[0.0025, 0.0025, 0.0025],\n",
            "        [0.0025, 0.0025, 0.0025]])\n"
          ],
          "name": "stdout"
        }
      ]
    },
    {
      "cell_type": "code",
      "metadata": {
        "colab": {
          "base_uri": "https://localhost:8080/"
        },
        "id": "aiky9fKUnW4f",
        "outputId": "a8a41003-8a78-4946-aad5-80af0fe02778"
      },
      "source": [
        "%%time\n",
        "learning_rate = 0.001\n",
        "N = 100000\n",
        "epochs = 200\n",
        "\n",
        "w = jt.rand([N] , requires_grad=True , device = st )\n",
        "b = jt.ones([1] , requires_grad=True , device = st )\n",
        "\n",
        "print(jt.mean(w).item() , b.item())\n",
        "\n",
        "for i in range(epochs):\n",
        "\n",
        "  x = jt.randn([N],device = st)\n",
        "  y = jt.dot(3*jt.ones([N],device = st),x) - 2\n",
        "\n",
        "  y_hat = jt.dot(w,x) + b\n",
        "\n",
        "  loss = jt.sum((y_hat-y)**2)\n",
        "\n",
        "  loss.backward()\n",
        "\n",
        "  with jt.no_grad():\n",
        "    w -= learning_rate * w.grad\n",
        "    b -= learning_rate * b.grad\n",
        "\n",
        "    w.grad.zero_()\n",
        "    b.grad.zero_()\n",
        "\n",
        "print(jt.mean(w).item() , b.item())"
      ],
      "execution_count": null,
      "outputs": [
        {
          "output_type": "stream",
          "text": [
            "0.500093400478363 1.0\n",
            "-1089544320.0 -22907371520.0\n",
            "CPU times: user 134 ms, sys: 5.92 ms, total: 140 ms\n",
            "Wall time: 155 ms\n"
          ],
          "name": "stdout"
        }
      ]
    },
    {
      "cell_type": "markdown",
      "metadata": {
        "id": "C5p5RtiAEBnG"
      },
      "source": [
        "**FFN using pyTorch**"
      ]
    },
    {
      "cell_type": "code",
      "metadata": {
        "id": "0oaIpdofEGuW"
      },
      "source": [
        "import numpy as np\n",
        "import matplotlib.pyplot as plt\n",
        "import matplotlib.colors\n",
        "import pandas as pd\n",
        "from sklearn.model_selection import train_test_split\n",
        "from sklearn.metrics import accuracy_score , mean_squared_error , log_loss\n",
        "from tqdm import tqdm_notebook\n",
        "import seaborn as sns\n",
        "import time\n",
        "import math\n",
        "import imageio\n",
        "from IPython.display import HTML\n",
        "import warnings\n",
        "warnings.filterwarnings('ignore')\n",
        "\n",
        "from sklearn.preprocessing import OneHotEncoder\n",
        "from sklearn.datasets import make_blobs"
      ],
      "execution_count": null,
      "outputs": []
    },
    {
      "cell_type": "code",
      "metadata": {
        "id": "3t-6JbrGEtde"
      },
      "source": [
        "import torch as jt"
      ],
      "execution_count": null,
      "outputs": []
    },
    {
      "cell_type": "code",
      "metadata": {
        "colab": {
          "base_uri": "https://localhost:8080/"
        },
        "id": "UaK9QG22FoXt",
        "outputId": "9d5e0c15-f6ba-432a-e32b-e3f7110505ec"
      },
      "source": [
        "jt.manual_seed(0)"
      ],
      "execution_count": null,
      "outputs": [
        {
          "output_type": "execute_result",
          "data": {
            "text/plain": [
              "<torch._C.Generator at 0x7f017466cb28>"
            ]
          },
          "metadata": {
            "tags": []
          },
          "execution_count": 20
        }
      ]
    },
    {
      "cell_type": "code",
      "metadata": {
        "colab": {
          "base_uri": "https://localhost:8080/",
          "height": 547
        },
        "id": "y5rrHIwMFubH",
        "outputId": "27cf8b3b-a846-425c-e2f3-285518b455ca"
      },
      "source": [
        "my_cmap = matplotlib.colors.LinearSegmentedColormap.from_list(\"\",[\"red\",\"yellow\",\"green\"])\n",
        "data , labels = make_blobs(n_samples=1000, n_features=2, centers=4, random_state=0)\n",
        "print(data.shape , labels.shape)\n",
        "plt.scatter(data[:,0] , data[:,1] , c=labels , cmap=my_cmap)\n",
        "plt.show()\n",
        "labels_org = labels\n",
        "labels = np.mod( labels , 2 )\n",
        "plt.scatter(data[:,0] , data[:,1] , c=labels , cmap=my_cmap)\n",
        "plt.show()\n",
        "X_train , X_val , Y_train , Y_val = train_test_split( data, labels_org, stratify =labels_org, random_state =0)  # split the data in the training and validation part\n",
        "print( X_train.shape , X_val.shape)"
      ],
      "execution_count": null,
      "outputs": [
        {
          "output_type": "stream",
          "text": [
            "(1000, 2) (1000,)\n"
          ],
          "name": "stdout"
        },
        {
          "output_type": "display_data",
          "data": {
            "image/png": "[encoded data removed]",
            "text/plain": [
              "<Figure size 432x288 with 1 Axes>"
            ]
          },
          "metadata": {
            "tags": [],
            "needs_background": "light"
          }
        },
        {
          "output_type": "display_data",
          "data": {
            "image/png": "[encoded data removed]",
            "text/plain": [
              "<Figure size 432x288 with 1 Axes>"
            ]
          },
          "metadata": {
            "tags": [],
            "needs_background": "light"
          }
        },
        {
          "output_type": "stream",
          "text": [
            "(750, 2) (250, 2)\n"
          ],
          "name": "stdout"
        }
      ]
    },
    {
      "cell_type": "markdown",
      "metadata": {
        "id": "2bH8DetdGMYz"
      },
      "source": [
        "**using torch tensor and autograd**"
      ]
    },
    {
      "cell_type": "code",
      "metadata": {
        "id": "KKrv_DrOGLJP"
      },
      "source": [
        "X_train , X_val , Y_train , Y_val = map(jt.tensor , (X_train , X_val , Y_train , Y_val ))"
      ],
      "execution_count": null,
      "outputs": []
    },
    {
      "cell_type": "code",
      "metadata": {
        "colab": {
          "base_uri": "https://localhost:8080/"
        },
        "id": "408FO4GcGaxZ",
        "outputId": "86230193-3ba9-48fb-a9e8-0c7876477c50"
      },
      "source": [
        "print( X_train.shape , X_val.shape)"
      ],
      "execution_count": null,
      "outputs": [
        {
          "output_type": "stream",
          "text": [
            "torch.Size([750, 2]) torch.Size([250, 2])\n"
          ],
          "name": "stdout"
        }
      ]
    },
    {
      "cell_type": "code",
      "metadata": {
        "id": "-NqBK9GSGcj6"
      },
      "source": [
        "def model(x):\n",
        "  a1 = jt.matmul( x , W1 ) + B1\n",
        "  h1 = a1.sigmoid()\n",
        "  a2 = jt.matmul( h1 , W2 ) + B2\n",
        "  h2 = a2.exp() / (a2.exp().sum(-1).unsqueeze(-1))\n",
        "  return h2"
      ],
      "execution_count": null,
      "outputs": []
    },
    {
      "cell_type": "code",
      "metadata": {
        "id": "IDKrl8U9msp9"
      },
      "source": [
        "def loss_fn( y_hat , y ):\n",
        "  return -(y_hat[range(y.shape[0]),y].log()).mean()"
      ],
      "execution_count": null,
      "outputs": []
    },
    {
      "cell_type": "code",
      "metadata": {
        "colab": {
          "base_uri": "https://localhost:8080/"
        },
        "id": "s80dPLCwpUlh",
        "outputId": "a1dfd194-82a8-420d-eb43-18d852b5b4f8"
      },
      "source": [
        " a = jt.tensor([[1, 2], [3, 4], [5, 6]])\n",
        " print(a.sum(0).shape)\n",
        " print(a.sum(0).unsqueeze(1).shape)"
      ],
      "execution_count": null,
      "outputs": [
        {
          "output_type": "stream",
          "text": [
            "torch.Size([2])\n",
            "torch.Size([2, 1])\n"
          ],
          "name": "stdout"
        }
      ]
    },
    {
      "cell_type": "code",
      "metadata": {
        "id": "aNs09BvV1Hze"
      },
      "source": [
        "def accuracy( y_hat , y ):\n",
        "  pred = jt.argmax( y_hat , dim = 1 )\n",
        "  return ( pred == y ).float().mean()"
      ],
      "execution_count": null,
      "outputs": []
    },
    {
      "cell_type": "code",
      "metadata": {
        "id": "wro5c0S2-gpQ"
      },
      "source": [
        "W1 = jt.randn(2,2) / math.sqrt(2)\n",
        "W1.requires_grad_()\n",
        "B1 = jt.zeros(2, requires_grad=True )\n",
        "\n",
        "W2 = jt.randn(2,4) / math.sqrt(2)\n",
        "W2.requires_grad_()\n",
        "B2 = jt.zeros(4, requires_grad=True )"
      ],
      "execution_count": null,
      "outputs": []
    },
    {
      "cell_type": "code",
      "metadata": {
        "colab": {
          "base_uri": "https://localhost:8080/",
          "height": 301
        },
        "id": "S1YRpd1IAFgh",
        "outputId": "f7cb3842-6234-4d68-a866-f64f19d39222"
      },
      "source": [
        "learning_rate = 0.2\n",
        "epochs = 10000\n",
        "\n",
        "X_train = X_train.float()\n",
        "Y_train = Y_train.long()\n",
        "\n",
        "loss_arr = []\n",
        "acc_arr = []\n",
        "\n",
        "for e in range( epochs ):\n",
        "  y_hat = model( X_train )\n",
        "  loss = loss_fn( y_hat , Y_train )\n",
        "  loss.backward()\n",
        "  loss_arr.append( loss.item() )\n",
        "  acc_arr.append( accuracy( y_hat , Y_train) )\n",
        "\n",
        "  with jt.no_grad():\n",
        "    W1 -= W1.grad * learning_rate\n",
        "    B1 -= B1.grad * learning_rate\n",
        "    W2 -= W2.grad * learning_rate\n",
        "    B2 -= B2.grad * learning_rate\n",
        "    W1.grad.zero_()\n",
        "    B1.grad.zero_()\n",
        "    W2.grad.zero_()\n",
        "    B2.grad.zero_()\n",
        "\n",
        "plt.plot( loss_arr , '-r' )\n",
        "plt.plot( acc_arr , '-b' )\n",
        "plt.show()\n",
        "\n",
        "print(\"Before loss : \" , loss_arr[0] )\n",
        "print(\"After loss : \" , loss_arr[-1] )"
      ],
      "execution_count": null,
      "outputs": [
        {
          "output_type": "display_data",
          "data": {
            "image/png": "[encoded data removed]",
            "text/plain": [
              "<Figure size 432x288 with 1 Axes>"
            ]
          },
          "metadata": {
            "tags": [],
            "needs_background": "light"
          }
        },
        {
          "output_type": "stream",
          "text": [
            "Before loss :  1.5456440448760986\n",
            "After loss :  0.19288595020771027\n"
          ],
          "name": "stdout"
        }
      ]
    },
    {
      "cell_type": "code",
      "metadata": {
        "id": "JdW2XZqNKLEG"
      },
      "source": [
        "import torch.nn.functional as F"
      ],
      "execution_count": null,
      "outputs": []
    },
    {
      "cell_type": "code",
      "metadata": {
        "colab": {
          "base_uri": "https://localhost:8080/",
          "height": 333
        },
        "id": "yXgDhMJrKReT",
        "outputId": "f6720468-7880-48ca-fd10-d07f6dc6f735"
      },
      "source": [
        "jt.manual_seed(0)\n",
        "W1 = jt.randn(2,2) / math.sqrt(2)\n",
        "W1.requires_grad_()\n",
        "B1 = jt.zeros(2, requires_grad=True )\n",
        "\n",
        "W2 = jt.randn(2,4) / math.sqrt(2)\n",
        "W2.requires_grad_()\n",
        "B2 = jt.zeros(4, requires_grad=True )\n",
        "\n",
        "learning_rate = 0.2\n",
        "epochs = 10000\n",
        "\n",
        "X_train = X_train.float()\n",
        "Y_train = Y_train.long()\n",
        "\n",
        "loss_arr = []\n",
        "acc_arr = []\n",
        "\n",
        "for e in range( epochs ):\n",
        "  y_hat = model( X_train )\n",
        "  loss = F.cross_entropy( y_hat , Y_train )\n",
        "  loss.backward()\n",
        "  loss_arr.append( loss.item() )\n",
        "  acc_arr.append( accuracy( y_hat , Y_train) )\n",
        "\n",
        "  with jt.no_grad():\n",
        "    W1 -= W1.grad * learning_rate\n",
        "    B1 -= B1.grad * learning_rate\n",
        "    W2 -= W2.grad * learning_rate\n",
        "    B2 -= B2.grad * learning_rate\n",
        "    W1.grad.zero_()\n",
        "    B1.grad.zero_()\n",
        "    W2.grad.zero_()\n",
        "    B2.grad.zero_()\n",
        "\n",
        "plt.plot( loss_arr , '-r' )\n",
        "plt.plot( acc_arr , '-b' )\n",
        "plt.show()\n",
        "\n",
        "print(\"Before loss : \" , loss_arr[0] )\n",
        "print(\"After loss : \" , loss_arr[-1] )\n",
        "\n",
        "\n",
        "print(\"Before loss : \" , acc_arr[0] )\n",
        "print(\"After loss : \" , acc_arr[-1] )"
      ],
      "execution_count": null,
      "outputs": [
        {
          "output_type": "display_data",
          "data": {
            "image/png": "[encoded data removed]",
            "text/plain": [
              "<Figure size 432x288 with 1 Axes>"
            ]
          },
          "metadata": {
            "tags": [],
            "needs_background": "light"
          }
        },
        {
          "output_type": "stream",
          "text": [
            "Before loss :  1.4111980199813843\n",
            "After loss :  0.9561843872070312\n",
            "Before loss :  tensor(0.2507)\n",
            "After loss :  tensor(0.8253)\n"
          ],
          "name": "stdout"
        }
      ]
    },
    {
      "cell_type": "code",
      "metadata": {
        "id": "-al2_dnkLrnI"
      },
      "source": [
        "import torch.nn as nn"
      ],
      "execution_count": null,
      "outputs": []
    },
    {
      "cell_type": "code",
      "metadata": {
        "id": "YGp2miy6UPcx"
      },
      "source": [
        "class FirstDLNetwork(nn.Module):\n",
        "\n",
        "  def __init__(self):\n",
        "    super().__init__()\n",
        "    jt.manual_seed(0)\n",
        "    self.W1 = nn.Parameter(jt.randn(2,2) / math.sqrt(2))\n",
        "    self.B1 = nn.Parameter(jt.zeros(2))\n",
        "    self.W2 = nn.Parameter(jt.randn(2,4) / math.sqrt(2))\n",
        "    self.B2 = nn.Parameter(jt.zeros(4))\n",
        "\n",
        "  def forward(self, X):\n",
        "    a1 = jt.matmul( X , self.W1 ) + self.B1\n",
        "    h1 = a1.sigmoid()\n",
        "    a2 = jt.matmul( h1 , self.W2 ) + self.B2\n",
        "    h2 = a2.exp() / (a2.exp().sum(-1).unsqueeze(-1))\n",
        "    return h2"
      ],
      "execution_count": null,
      "outputs": []
    },
    {
      "cell_type": "code",
      "metadata": {
        "id": "EaVASI6QX5RW"
      },
      "source": [
        "def fit(epochs = 10000 , learning_rate = 1 ):\n",
        "  loss_arr = []\n",
        "  acc_arr = []\n",
        "\n",
        "  for e in range( epochs ):\n",
        "    y_hat = fn( X_train )\n",
        "    loss = F.cross_entropy( y_hat , Y_train )\n",
        "    loss.backward()\n",
        "    loss_arr.append( loss.item() )\n",
        "    acc_arr.append( accuracy( y_hat , Y_train) )\n",
        "\n",
        "    with jt.no_grad():\n",
        "      for param in fn.parameters():\n",
        "        param -= param.grad * learning_rate\n",
        "        param.grad.zero_()\n",
        "\n",
        "  plt.plot( loss_arr , '-r' )\n",
        "  plt.plot( acc_arr , '-b' )\n",
        "  plt.show()\n",
        "\n",
        "  print(\"Before loss : \" , loss_arr[0] )\n",
        "  print(\"After loss : \" , loss_arr[-1] )\n"
      ],
      "execution_count": null,
      "outputs": []
    },
    {
      "cell_type": "code",
      "metadata": {
        "colab": {
          "base_uri": "https://localhost:8080/",
          "height": 299
        },
        "id": "U9_g64jVdEq2",
        "outputId": "c061fb2d-29c5-4e39-dbfd-739e4528e225"
      },
      "source": [
        "fn = FirstDLNetwork()\n",
        "fit()"
      ],
      "execution_count": null,
      "outputs": [
        {
          "output_type": "display_data",
          "data": {
            "image/png": "[encoded data removed]",
            "text/plain": [
              "<Figure size 432x288 with 1 Axes>"
            ]
          },
          "metadata": {
            "tags": [],
            "needs_background": "light"
          }
        },
        {
          "output_type": "stream",
          "text": [
            "Before loss :  1.4111980199813843\n",
            "After loss :  0.8324941992759705\n"
          ],
          "name": "stdout"
        }
      ]
    },
    {
      "cell_type": "markdown",
      "metadata": {
        "id": "qM4P0lhif_Ug"
      },
      "source": [
        "Using NN.linear and NN.optim"
      ]
    },
    {
      "cell_type": "code",
      "metadata": {
        "id": "6-KhGjligEfi"
      },
      "source": [
        "class FirstDLNetwork_1(nn.Module):\n",
        "\n",
        "  def __init__(self):\n",
        "    super().__init__()\n",
        "    jt.manual_seed(0)\n",
        "    self.lin1 = nn.Linear(2,2)\n",
        "    self.lin2 = nn.Linear(2,4)\n",
        "\n",
        "  def forward(self, X):\n",
        "    a1 = self.lin1(X)\n",
        "    h1 = a1.sigmoid()\n",
        "    a2 = self.lin2(h1)\n",
        "    h2 = a2.exp() / (a2.exp().sum(-1).unsqueeze(-1))\n",
        "    return h2"
      ],
      "execution_count": null,
      "outputs": []
    },
    {
      "cell_type": "code",
      "metadata": {
        "colab": {
          "base_uri": "https://localhost:8080/",
          "height": 299
        },
        "id": "ZxSEZ4V0ge8M",
        "outputId": "89393c2e-b0de-47f7-b501-9757cfa77ea2"
      },
      "source": [
        "fn = FirstDLNetwork_1()\n",
        "fit()"
      ],
      "execution_count": null,
      "outputs": [
        {
          "output_type": "display_data",
          "data": {
            "image/png": "[encoded data removed]",
            "text/plain": [
              "<Figure size 432x288 with 1 Axes>"
            ]
          },
          "metadata": {
            "tags": [],
            "needs_background": "light"
          }
        },
        {
          "output_type": "stream",
          "text": [
            "Before loss :  1.395160436630249\n",
            "After loss :  0.8293508887290955\n"
          ],
          "name": "stdout"
        }
      ]
    },
    {
      "cell_type": "code",
      "metadata": {
        "id": "cCORn-Qigt6J"
      },
      "source": [
        "from torch import optim"
      ],
      "execution_count": null,
      "outputs": []
    },
    {
      "cell_type": "code",
      "metadata": {
        "id": "jDHO41e1gwsV"
      },
      "source": [
        "def fit_1(epochs = 10000 , learning_rate = 1 ):\n",
        "  loss_arr = []\n",
        "  acc_arr = []\n",
        "  opt = optim.SGD(fn.parameters() , lr=learning_rate )\n",
        "\n",
        "  for e in range( epochs ):\n",
        "    y_hat = fn( X_train )\n",
        "    loss = F.cross_entropy( y_hat , Y_train )\n",
        "    loss.backward()\n",
        "    loss_arr.append( loss.item() )\n",
        "    acc_arr.append( accuracy( y_hat , Y_train) )\n",
        "    opt.step()\n",
        "    opt.zero_grad()\n",
        "\n",
        "  plt.plot( loss_arr , '-r' )\n",
        "  plt.plot( acc_arr , '-b' )\n",
        "  plt.show()\n",
        "\n",
        "  print(\"Before loss : \" , loss_arr[0] )\n",
        "  print(\"After loss : \" , loss_arr[-1] )"
      ],
      "execution_count": null,
      "outputs": []
    },
    {
      "cell_type": "code",
      "metadata": {
        "colab": {
          "base_uri": "https://localhost:8080/",
          "height": 299
        },
        "id": "SztgW1olim6C",
        "outputId": "20db7b19-5856-4b00-e256-3fc88aa00bfc"
      },
      "source": [
        "fn = FirstDLNetwork_1()\n",
        "fit_1()"
      ],
      "execution_count": null,
      "outputs": [
        {
          "output_type": "display_data",
          "data": {
            "image/png": "[encoded data removed]",
            "text/plain": [
              "<Figure size 432x288 with 1 Axes>"
            ]
          },
          "metadata": {
            "tags": [],
            "needs_background": "light"
          }
        },
        {
          "output_type": "stream",
          "text": [
            "Before loss :  1.395160436630249\n",
            "After loss :  0.8293508887290955\n"
          ],
          "name": "stdout"
        }
      ]
    },
    {
      "cell_type": "code",
      "metadata": {
        "id": "GgQolcmClo9a"
      },
      "source": [
        "class FirstDLNetwork_2(nn.Module):\n",
        "\n",
        "  def __init__(self):\n",
        "    super().__init__()\n",
        "    jt.manual_seed(0)\n",
        "    self.net = nn.Sequential(\n",
        "        nn.Linear(2,128),\n",
        "        nn.Sigmoid(),\n",
        "        nn.Linear(128,4),\n",
        "        nn.Softmax()\n",
        "    )\n",
        "\n",
        "  def forward(self, X):\n",
        "    return self.net(X)"
      ],
      "execution_count": null,
      "outputs": []
    },
    {
      "cell_type": "code",
      "metadata": {
        "colab": {
          "base_uri": "https://localhost:8080/",
          "height": 299
        },
        "id": "iV8vVq5ymRfS",
        "outputId": "ff1b75c6-5712-45e1-fc48-1fe972cff986"
      },
      "source": [
        "fn = FirstDLNetwork_2()\n",
        "fit_1()"
      ],
      "execution_count": null,
      "outputs": [
        {
          "output_type": "display_data",
          "data": {
            "image/png": "[encoded data removed]",
            "text/plain": [
              "<Figure size 432x288 with 1 Axes>"
            ]
          },
          "metadata": {
            "tags": [],
            "needs_background": "light"
          }
        },
        {
          "output_type": "stream",
          "text": [
            "Before loss :  1.395160436630249\n",
            "After loss :  0.829351007938385\n"
          ],
          "name": "stdout"
        }
      ]
    },
    {
      "cell_type": "code",
      "metadata": {
        "id": "WEZr5cU0mavE"
      },
      "source": [
        "def fit_2(x , y , fn ,  opt , loss_fn , epochs = 1000  ):\n",
        "\n",
        "  for e in range( epochs ):\n",
        "    loss = loss_fn( fn.forward(x) , y )\n",
        "    loss.backward()\n",
        "    opt.step()\n",
        "    opt.zero_grad()\n",
        "\n",
        "  return loss.item()"
      ],
      "execution_count": null,
      "outputs": []
    },
    {
      "cell_type": "code",
      "metadata": {
        "colab": {
          "base_uri": "https://localhost:8080/"
        },
        "id": "T9MBQ2yzqW-H",
        "outputId": "ce60f3aa-b010-4a53-a2d5-c8b9dd18a6ff"
      },
      "source": [
        "fn = FirstDLNetwork_2()\n",
        "loss_fn = F.cross_entropy\n",
        "opt = optim.SGD(fn.parameters() , lr=0.2 )\n",
        "fit_2( X_train , Y_train , fn , opt , loss_fn)"
      ],
      "execution_count": null,
      "outputs": [
        {
          "output_type": "execute_result",
          "data": {
            "text/plain": [
              "0.8586323857307434"
            ]
          },
          "metadata": {
            "tags": []
          },
          "execution_count": 44
        }
      ]
    },
    {
      "cell_type": "markdown",
      "metadata": {
        "id": "t9M33zFAkMoG"
      },
      "source": [
        "easy to select hardware accelerator"
      ]
    },
    {
      "cell_type": "code",
      "metadata": {
        "colab": {
          "base_uri": "https://localhost:8080/"
        },
        "id": "cWZPSbXMkKnw",
        "outputId": "bc5edc76-eec9-4a42-c8e6-e0958831b14b"
      },
      "source": [
        "device = jt.device(\"cpu\")\n",
        "\n",
        "X_train = X_train.to(device)\n",
        "Y_train = Y_train.to(device)\n",
        "fn = FirstDLNetwork_2()\n",
        "fn.to(device)\n",
        "tic = time.time()\n",
        "print('Final Loss', fit_2(X_train , Y_train , fn , opt , loss_fn))\n",
        "toc = time.time()\n",
        "print('Time taken' , toc-tic )"
      ],
      "execution_count": null,
      "outputs": [
        {
          "output_type": "stream",
          "text": [
            "Final Loss 1.3985880613327026\n",
            "Time taken 1.4262192249298096\n"
          ],
          "name": "stdout"
        }
      ]
    }
  ]
}